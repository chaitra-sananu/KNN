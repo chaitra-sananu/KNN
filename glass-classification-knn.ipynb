{
 "cells": [
  {
   "cell_type": "markdown",
   "metadata": {
    "papermill": {
     "duration": 0.06052,
     "end_time": "2021-04-06T12:42:52.473754",
     "exception": false,
     "start_time": "2021-04-06T12:42:52.413234",
     "status": "completed"
    },
    "tags": []
   },
   "source": [
    "# Problem statement"
   ]
  },
  {
   "cell_type": "markdown",
   "metadata": {
    "papermill": {
     "duration": 0.057904,
     "end_time": "2021-04-06T12:42:52.591838",
     "exception": false,
     "start_time": "2021-04-06T12:42:52.533934",
     "status": "completed"
    },
    "tags": []
   },
   "source": [
    "Prepare a model for glass classification using KNN"
   ]
  },
  {
   "cell_type": "markdown",
   "metadata": {
    "papermill": {
     "duration": 0.058198,
     "end_time": "2021-04-06T12:42:52.708121",
     "exception": false,
     "start_time": "2021-04-06T12:42:52.649923",
     "status": "completed"
    },
    "tags": []
   },
   "source": [
    "# Importing the libraries"
   ]
  },
  {
   "cell_type": "code",
   "execution_count": 1,
   "metadata": {
    "ExecuteTime": {
     "end_time": "2021-04-06T12:33:20.820118Z",
     "start_time": "2021-04-06T12:33:16.658090Z"
    },
    "execution": {
     "iopub.execute_input": "2021-04-06T12:42:52.839011Z",
     "iopub.status.busy": "2021-04-06T12:42:52.838341Z",
     "iopub.status.idle": "2021-04-06T12:42:54.634939Z",
     "shell.execute_reply": "2021-04-06T12:42:54.633681Z"
    },
    "papermill": {
     "duration": 1.866195,
     "end_time": "2021-04-06T12:42:54.635176",
     "exception": false,
     "start_time": "2021-04-06T12:42:52.768981",
     "status": "completed"
    },
    "tags": []
   },
   "outputs": [],
   "source": [
    "from pandas import read_csv\n",
    "import numpy as np\n",
    "from sklearn.model_selection import KFold\n",
    "from sklearn.model_selection import cross_val_score\n",
    "from sklearn.neighbors import KNeighborsClassifier\n",
    "import seaborn as sn\n",
    "import pandas as pd\n",
    "from sklearn.model_selection import GridSearchCV,train_test_split\n",
    "import numpy as np\n",
    "import imblearn\n",
    "from imblearn.over_sampling import SMOTE\n",
    "import matplotlib.pyplot as plt\n",
    "from sklearn.metrics import confusion_matrix, classification_report, accuracy_score\n",
    "from sklearn.preprocessing import StandardScaler\n",
    "from imblearn.over_sampling import RandomOverSampler"
   ]
  },
  {
   "cell_type": "markdown",
   "metadata": {
    "papermill": {
     "duration": 0.059338,
     "end_time": "2021-04-06T12:42:54.753356",
     "exception": false,
     "start_time": "2021-04-06T12:42:54.694018",
     "status": "completed"
    },
    "tags": []
   },
   "source": [
    "# Loading the dataset"
   ]
  },
  {
   "cell_type": "code",
   "execution_count": 2,
   "metadata": {
    "ExecuteTime": {
     "end_time": "2021-04-06T12:33:20.852925Z",
     "start_time": "2021-04-06T12:33:20.825412Z"
    },
    "execution": {
     "iopub.execute_input": "2021-04-06T12:42:54.876485Z",
     "iopub.status.busy": "2021-04-06T12:42:54.875803Z",
     "iopub.status.idle": "2021-04-06T12:42:54.905192Z",
     "shell.execute_reply": "2021-04-06T12:42:54.904478Z"
    },
    "papermill": {
     "duration": 0.093198,
     "end_time": "2021-04-06T12:42:54.905350",
     "exception": false,
     "start_time": "2021-04-06T12:42:54.812152",
     "status": "completed"
    },
    "tags": []
   },
   "outputs": [],
   "source": [
    "glass = pd.read_csv(\"../input/glass/glass.csv\")"
   ]
  },
  {
   "cell_type": "code",
   "execution_count": 3,
   "metadata": {
    "ExecuteTime": {
     "end_time": "2021-04-06T12:33:20.911774Z",
     "start_time": "2021-04-06T12:33:20.858616Z"
    },
    "execution": {
     "iopub.execute_input": "2021-04-06T12:42:55.038805Z",
     "iopub.status.busy": "2021-04-06T12:42:55.037676Z",
     "iopub.status.idle": "2021-04-06T12:42:55.068862Z",
     "shell.execute_reply": "2021-04-06T12:42:55.068253Z"
    },
    "papermill": {
     "duration": 0.105396,
     "end_time": "2021-04-06T12:42:55.069024",
     "exception": false,
     "start_time": "2021-04-06T12:42:54.963628",
     "status": "completed"
    },
    "tags": []
   },
   "outputs": [
    {
     "data": {
      "text/html": [
       "<div>\n",
       "<style scoped>\n",
       "    .dataframe tbody tr th:only-of-type {\n",
       "        vertical-align: middle;\n",
       "    }\n",
       "\n",
       "    .dataframe tbody tr th {\n",
       "        vertical-align: top;\n",
       "    }\n",
       "\n",
       "    .dataframe thead th {\n",
       "        text-align: right;\n",
       "    }\n",
       "</style>\n",
       "<table border=\"1\" class=\"dataframe\">\n",
       "  <thead>\n",
       "    <tr style=\"text-align: right;\">\n",
       "      <th></th>\n",
       "      <th>RI</th>\n",
       "      <th>Na</th>\n",
       "      <th>Mg</th>\n",
       "      <th>Al</th>\n",
       "      <th>Si</th>\n",
       "      <th>K</th>\n",
       "      <th>Ca</th>\n",
       "      <th>Ba</th>\n",
       "      <th>Fe</th>\n",
       "      <th>Type</th>\n",
       "    </tr>\n",
       "  </thead>\n",
       "  <tbody>\n",
       "    <tr>\n",
       "      <th>0</th>\n",
       "      <td>1.52101</td>\n",
       "      <td>13.64</td>\n",
       "      <td>4.49</td>\n",
       "      <td>1.10</td>\n",
       "      <td>71.78</td>\n",
       "      <td>0.06</td>\n",
       "      <td>8.75</td>\n",
       "      <td>0.0</td>\n",
       "      <td>0.0</td>\n",
       "      <td>1</td>\n",
       "    </tr>\n",
       "    <tr>\n",
       "      <th>1</th>\n",
       "      <td>1.51761</td>\n",
       "      <td>13.89</td>\n",
       "      <td>3.60</td>\n",
       "      <td>1.36</td>\n",
       "      <td>72.73</td>\n",
       "      <td>0.48</td>\n",
       "      <td>7.83</td>\n",
       "      <td>0.0</td>\n",
       "      <td>0.0</td>\n",
       "      <td>1</td>\n",
       "    </tr>\n",
       "    <tr>\n",
       "      <th>2</th>\n",
       "      <td>1.51618</td>\n",
       "      <td>13.53</td>\n",
       "      <td>3.55</td>\n",
       "      <td>1.54</td>\n",
       "      <td>72.99</td>\n",
       "      <td>0.39</td>\n",
       "      <td>7.78</td>\n",
       "      <td>0.0</td>\n",
       "      <td>0.0</td>\n",
       "      <td>1</td>\n",
       "    </tr>\n",
       "    <tr>\n",
       "      <th>3</th>\n",
       "      <td>1.51766</td>\n",
       "      <td>13.21</td>\n",
       "      <td>3.69</td>\n",
       "      <td>1.29</td>\n",
       "      <td>72.61</td>\n",
       "      <td>0.57</td>\n",
       "      <td>8.22</td>\n",
       "      <td>0.0</td>\n",
       "      <td>0.0</td>\n",
       "      <td>1</td>\n",
       "    </tr>\n",
       "    <tr>\n",
       "      <th>4</th>\n",
       "      <td>1.51742</td>\n",
       "      <td>13.27</td>\n",
       "      <td>3.62</td>\n",
       "      <td>1.24</td>\n",
       "      <td>73.08</td>\n",
       "      <td>0.55</td>\n",
       "      <td>8.07</td>\n",
       "      <td>0.0</td>\n",
       "      <td>0.0</td>\n",
       "      <td>1</td>\n",
       "    </tr>\n",
       "  </tbody>\n",
       "</table>\n",
       "</div>"
      ],
      "text/plain": [
       "        RI     Na    Mg    Al     Si     K    Ca   Ba   Fe  Type\n",
       "0  1.52101  13.64  4.49  1.10  71.78  0.06  8.75  0.0  0.0     1\n",
       "1  1.51761  13.89  3.60  1.36  72.73  0.48  7.83  0.0  0.0     1\n",
       "2  1.51618  13.53  3.55  1.54  72.99  0.39  7.78  0.0  0.0     1\n",
       "3  1.51766  13.21  3.69  1.29  72.61  0.57  8.22  0.0  0.0     1\n",
       "4  1.51742  13.27  3.62  1.24  73.08  0.55  8.07  0.0  0.0     1"
      ]
     },
     "execution_count": 3,
     "metadata": {},
     "output_type": "execute_result"
    }
   ],
   "source": [
    "glass.head()"
   ]
  },
  {
   "cell_type": "markdown",
   "metadata": {
    "papermill": {
     "duration": 0.059881,
     "end_time": "2021-04-06T12:42:55.189227",
     "exception": false,
     "start_time": "2021-04-06T12:42:55.129346",
     "status": "completed"
    },
    "tags": []
   },
   "source": [
    "We can just peek into few data points by using head function of pandas. By default, head function return top 5 values "
   ]
  },
  {
   "cell_type": "markdown",
   "metadata": {
    "papermill": {
     "duration": 0.059295,
     "end_time": "2021-04-06T12:42:55.308931",
     "exception": false,
     "start_time": "2021-04-06T12:42:55.249636",
     "status": "completed"
    },
    "tags": []
   },
   "source": [
    "# Data Insights"
   ]
  },
  {
   "cell_type": "code",
   "execution_count": 4,
   "metadata": {
    "ExecuteTime": {
     "end_time": "2021-04-06T12:33:20.927644Z",
     "start_time": "2021-04-06T12:33:20.914839Z"
    },
    "execution": {
     "iopub.execute_input": "2021-04-06T12:42:55.436690Z",
     "iopub.status.busy": "2021-04-06T12:42:55.435904Z",
     "iopub.status.idle": "2021-04-06T12:42:55.441095Z",
     "shell.execute_reply": "2021-04-06T12:42:55.440335Z"
    },
    "papermill": {
     "duration": 0.072026,
     "end_time": "2021-04-06T12:42:55.441248",
     "exception": false,
     "start_time": "2021-04-06T12:42:55.369222",
     "status": "completed"
    },
    "tags": []
   },
   "outputs": [
    {
     "data": {
      "text/plain": [
       "(214, 10)"
      ]
     },
     "execution_count": 4,
     "metadata": {},
     "output_type": "execute_result"
    }
   ],
   "source": [
    "glass.shape"
   ]
  },
  {
   "cell_type": "code",
   "execution_count": 5,
   "metadata": {
    "ExecuteTime": {
     "end_time": "2021-04-06T12:33:20.959616Z",
     "start_time": "2021-04-06T12:33:20.930690Z"
    },
    "execution": {
     "iopub.execute_input": "2021-04-06T12:42:55.566506Z",
     "iopub.status.busy": "2021-04-06T12:42:55.565805Z",
     "iopub.status.idle": "2021-04-06T12:42:55.588217Z",
     "shell.execute_reply": "2021-04-06T12:42:55.589282Z"
    },
    "papermill": {
     "duration": 0.086732,
     "end_time": "2021-04-06T12:42:55.589622",
     "exception": false,
     "start_time": "2021-04-06T12:42:55.502890",
     "status": "completed"
    },
    "tags": []
   },
   "outputs": [
    {
     "name": "stdout",
     "output_type": "stream",
     "text": [
      "<class 'pandas.core.frame.DataFrame'>\n",
      "RangeIndex: 214 entries, 0 to 213\n",
      "Data columns (total 10 columns):\n",
      " #   Column  Non-Null Count  Dtype  \n",
      "---  ------  --------------  -----  \n",
      " 0   RI      214 non-null    float64\n",
      " 1   Na      214 non-null    float64\n",
      " 2   Mg      214 non-null    float64\n",
      " 3   Al      214 non-null    float64\n",
      " 4   Si      214 non-null    float64\n",
      " 5   K       214 non-null    float64\n",
      " 6   Ca      214 non-null    float64\n",
      " 7   Ba      214 non-null    float64\n",
      " 8   Fe      214 non-null    float64\n",
      " 9   Type    214 non-null    int64  \n",
      "dtypes: float64(9), int64(1)\n",
      "memory usage: 16.8 KB\n"
     ]
    }
   ],
   "source": [
    "glass.info()"
   ]
  },
  {
   "cell_type": "code",
   "execution_count": 6,
   "metadata": {
    "ExecuteTime": {
     "end_time": "2021-04-06T12:33:20.983997Z",
     "start_time": "2021-04-06T12:33:20.964341Z"
    },
    "execution": {
     "iopub.execute_input": "2021-04-06T12:42:56.083249Z",
     "iopub.status.busy": "2021-04-06T12:42:56.082483Z",
     "iopub.status.idle": "2021-04-06T12:42:56.092334Z",
     "shell.execute_reply": "2021-04-06T12:42:56.092854Z"
    },
    "papermill": {
     "duration": 0.073949,
     "end_time": "2021-04-06T12:42:56.093031",
     "exception": false,
     "start_time": "2021-04-06T12:42:56.019082",
     "status": "completed"
    },
    "tags": []
   },
   "outputs": [
    {
     "name": "stdout",
     "output_type": "stream",
     "text": [
      "Number of duplicate rows: 1\n"
     ]
    }
   ],
   "source": [
    "dups = glass.duplicated()\n",
    "print('Number of duplicate rows: %d' % dups.sum())"
   ]
  },
  {
   "cell_type": "markdown",
   "metadata": {
    "papermill": {
     "duration": 0.060646,
     "end_time": "2021-04-06T12:42:56.214891",
     "exception": false,
     "start_time": "2021-04-06T12:42:56.154245",
     "status": "completed"
    },
    "tags": []
   },
   "source": [
    "There is one duplicate row, we will delete the duplicate row."
   ]
  },
  {
   "cell_type": "code",
   "execution_count": 7,
   "metadata": {
    "ExecuteTime": {
     "end_time": "2021-04-06T12:33:21.008489Z",
     "start_time": "2021-04-06T12:33:20.987988Z"
    },
    "execution": {
     "iopub.execute_input": "2021-04-06T12:42:56.340239Z",
     "iopub.status.busy": "2021-04-06T12:42:56.339447Z",
     "iopub.status.idle": "2021-04-06T12:42:56.349171Z",
     "shell.execute_reply": "2021-04-06T12:42:56.349901Z"
    },
    "papermill": {
     "duration": 0.074649,
     "end_time": "2021-04-06T12:42:56.350153",
     "exception": false,
     "start_time": "2021-04-06T12:42:56.275504",
     "status": "completed"
    },
    "tags": []
   },
   "outputs": [
    {
     "name": "stdout",
     "output_type": "stream",
     "text": [
      "Number of rows before discarding duplicates = 214\n",
      "Number of rows after discarding duplicates = 213\n"
     ]
    }
   ],
   "source": [
    "print('Number of rows before discarding duplicates = %d' % glass.shape[0])\n",
    "\n",
    "glass = glass.drop_duplicates()\n",
    "print('Number of rows after discarding duplicates = %d' % glass.shape[0])"
   ]
  },
  {
   "cell_type": "markdown",
   "metadata": {
    "papermill": {
     "duration": 0.0643,
     "end_time": "2021-04-06T12:42:56.476963",
     "exception": false,
     "start_time": "2021-04-06T12:42:56.412663",
     "status": "completed"
    },
    "tags": []
   },
   "source": [
    "# Summary statistics"
   ]
  },
  {
   "cell_type": "code",
   "execution_count": 8,
   "metadata": {
    "ExecuteTime": {
     "end_time": "2021-04-06T12:33:21.099041Z",
     "start_time": "2021-04-06T12:33:21.014026Z"
    },
    "execution": {
     "iopub.execute_input": "2021-04-06T12:42:56.609124Z",
     "iopub.status.busy": "2021-04-06T12:42:56.608485Z",
     "iopub.status.idle": "2021-04-06T12:42:56.648252Z",
     "shell.execute_reply": "2021-04-06T12:42:56.647644Z"
    },
    "papermill": {
     "duration": 0.109826,
     "end_time": "2021-04-06T12:42:56.648398",
     "exception": false,
     "start_time": "2021-04-06T12:42:56.538572",
     "status": "completed"
    },
    "tags": []
   },
   "outputs": [
    {
     "data": {
      "text/html": [
       "<div>\n",
       "<style scoped>\n",
       "    .dataframe tbody tr th:only-of-type {\n",
       "        vertical-align: middle;\n",
       "    }\n",
       "\n",
       "    .dataframe tbody tr th {\n",
       "        vertical-align: top;\n",
       "    }\n",
       "\n",
       "    .dataframe thead th {\n",
       "        text-align: right;\n",
       "    }\n",
       "</style>\n",
       "<table border=\"1\" class=\"dataframe\">\n",
       "  <thead>\n",
       "    <tr style=\"text-align: right;\">\n",
       "      <th></th>\n",
       "      <th>RI</th>\n",
       "      <th>Na</th>\n",
       "      <th>Mg</th>\n",
       "      <th>Al</th>\n",
       "      <th>Si</th>\n",
       "      <th>K</th>\n",
       "      <th>Ca</th>\n",
       "      <th>Ba</th>\n",
       "      <th>Fe</th>\n",
       "      <th>Type</th>\n",
       "    </tr>\n",
       "  </thead>\n",
       "  <tbody>\n",
       "    <tr>\n",
       "      <th>count</th>\n",
       "      <td>213.000000</td>\n",
       "      <td>213.000000</td>\n",
       "      <td>213.000000</td>\n",
       "      <td>213.000000</td>\n",
       "      <td>213.000000</td>\n",
       "      <td>213.000000</td>\n",
       "      <td>213.000000</td>\n",
       "      <td>213.000000</td>\n",
       "      <td>213.000000</td>\n",
       "      <td>213.000000</td>\n",
       "    </tr>\n",
       "    <tr>\n",
       "      <th>mean</th>\n",
       "      <td>1.518348</td>\n",
       "      <td>13.404085</td>\n",
       "      <td>2.679202</td>\n",
       "      <td>1.449484</td>\n",
       "      <td>72.655070</td>\n",
       "      <td>0.498873</td>\n",
       "      <td>8.954085</td>\n",
       "      <td>0.175869</td>\n",
       "      <td>0.057277</td>\n",
       "      <td>2.788732</td>\n",
       "    </tr>\n",
       "    <tr>\n",
       "      <th>std</th>\n",
       "      <td>0.003033</td>\n",
       "      <td>0.816662</td>\n",
       "      <td>1.443691</td>\n",
       "      <td>0.495925</td>\n",
       "      <td>0.773998</td>\n",
       "      <td>0.653185</td>\n",
       "      <td>1.425882</td>\n",
       "      <td>0.498245</td>\n",
       "      <td>0.097589</td>\n",
       "      <td>2.105130</td>\n",
       "    </tr>\n",
       "    <tr>\n",
       "      <th>min</th>\n",
       "      <td>1.511150</td>\n",
       "      <td>10.730000</td>\n",
       "      <td>0.000000</td>\n",
       "      <td>0.290000</td>\n",
       "      <td>69.810000</td>\n",
       "      <td>0.000000</td>\n",
       "      <td>5.430000</td>\n",
       "      <td>0.000000</td>\n",
       "      <td>0.000000</td>\n",
       "      <td>1.000000</td>\n",
       "    </tr>\n",
       "    <tr>\n",
       "      <th>25%</th>\n",
       "      <td>1.516520</td>\n",
       "      <td>12.900000</td>\n",
       "      <td>2.090000</td>\n",
       "      <td>1.190000</td>\n",
       "      <td>72.280000</td>\n",
       "      <td>0.130000</td>\n",
       "      <td>8.240000</td>\n",
       "      <td>0.000000</td>\n",
       "      <td>0.000000</td>\n",
       "      <td>1.000000</td>\n",
       "    </tr>\n",
       "    <tr>\n",
       "      <th>50%</th>\n",
       "      <td>1.517680</td>\n",
       "      <td>13.300000</td>\n",
       "      <td>3.480000</td>\n",
       "      <td>1.360000</td>\n",
       "      <td>72.790000</td>\n",
       "      <td>0.560000</td>\n",
       "      <td>8.600000</td>\n",
       "      <td>0.000000</td>\n",
       "      <td>0.000000</td>\n",
       "      <td>2.000000</td>\n",
       "    </tr>\n",
       "    <tr>\n",
       "      <th>75%</th>\n",
       "      <td>1.519150</td>\n",
       "      <td>13.810000</td>\n",
       "      <td>3.600000</td>\n",
       "      <td>1.630000</td>\n",
       "      <td>73.090000</td>\n",
       "      <td>0.610000</td>\n",
       "      <td>9.150000</td>\n",
       "      <td>0.000000</td>\n",
       "      <td>0.100000</td>\n",
       "      <td>3.000000</td>\n",
       "    </tr>\n",
       "    <tr>\n",
       "      <th>max</th>\n",
       "      <td>1.533930</td>\n",
       "      <td>17.380000</td>\n",
       "      <td>4.490000</td>\n",
       "      <td>3.500000</td>\n",
       "      <td>75.410000</td>\n",
       "      <td>6.210000</td>\n",
       "      <td>16.190000</td>\n",
       "      <td>3.150000</td>\n",
       "      <td>0.510000</td>\n",
       "      <td>7.000000</td>\n",
       "    </tr>\n",
       "  </tbody>\n",
       "</table>\n",
       "</div>"
      ],
      "text/plain": [
       "               RI          Na          Mg          Al          Si           K  \\\n",
       "count  213.000000  213.000000  213.000000  213.000000  213.000000  213.000000   \n",
       "mean     1.518348   13.404085    2.679202    1.449484   72.655070    0.498873   \n",
       "std      0.003033    0.816662    1.443691    0.495925    0.773998    0.653185   \n",
       "min      1.511150   10.730000    0.000000    0.290000   69.810000    0.000000   \n",
       "25%      1.516520   12.900000    2.090000    1.190000   72.280000    0.130000   \n",
       "50%      1.517680   13.300000    3.480000    1.360000   72.790000    0.560000   \n",
       "75%      1.519150   13.810000    3.600000    1.630000   73.090000    0.610000   \n",
       "max      1.533930   17.380000    4.490000    3.500000   75.410000    6.210000   \n",
       "\n",
       "               Ca          Ba          Fe        Type  \n",
       "count  213.000000  213.000000  213.000000  213.000000  \n",
       "mean     8.954085    0.175869    0.057277    2.788732  \n",
       "std      1.425882    0.498245    0.097589    2.105130  \n",
       "min      5.430000    0.000000    0.000000    1.000000  \n",
       "25%      8.240000    0.000000    0.000000    1.000000  \n",
       "50%      8.600000    0.000000    0.000000    2.000000  \n",
       "75%      9.150000    0.000000    0.100000    3.000000  \n",
       "max     16.190000    3.150000    0.510000    7.000000  "
      ]
     },
     "execution_count": 8,
     "metadata": {},
     "output_type": "execute_result"
    }
   ],
   "source": [
    "glass.describe()"
   ]
  },
  {
   "cell_type": "markdown",
   "metadata": {
    "papermill": {
     "duration": 0.061725,
     "end_time": "2021-04-06T12:42:56.772022",
     "exception": false,
     "start_time": "2021-04-06T12:42:56.710297",
     "status": "completed"
    },
    "tags": []
   },
   "source": [
    "### Observations :-"
   ]
  },
  {
   "cell_type": "markdown",
   "metadata": {
    "papermill": {
     "duration": 0.062396,
     "end_time": "2021-04-06T12:42:56.896964",
     "exception": false,
     "start_time": "2021-04-06T12:42:56.834568",
     "status": "completed"
    },
    "tags": []
   },
   "source": [
    "1. We could see there is a lot of difference between 50% (percentile) value and the max value for K(Potassium) and Ca(Calcium). So there is a chance of having an outlier in these 2 columns. We will further check using boxplots\n",
    "2. We can see the min,max and standard deviations including 25,50 and 75 percentile values."
   ]
  },
  {
   "cell_type": "markdown",
   "metadata": {
    "papermill": {
     "duration": 0.062166,
     "end_time": "2021-04-06T12:42:57.021932",
     "exception": false,
     "start_time": "2021-04-06T12:42:56.959766",
     "status": "completed"
    },
    "tags": []
   },
   "source": [
    "# Understanding the target variable"
   ]
  },
  {
   "cell_type": "markdown",
   "metadata": {
    "papermill": {
     "duration": 0.061965,
     "end_time": "2021-04-06T12:42:57.147347",
     "exception": false,
     "start_time": "2021-04-06T12:42:57.085382",
     "status": "completed"
    },
    "tags": []
   },
   "source": [
    "##### Our main objective is to classify the type of glass based on weight percentage. We have a column Type which has the values from 1 to 7 which is to determine the glass type"
   ]
  },
  {
   "cell_type": "markdown",
   "metadata": {
    "papermill": {
     "duration": 0.061755,
     "end_time": "2021-04-06T12:42:57.271197",
     "exception": false,
     "start_time": "2021-04-06T12:42:57.209442",
     "status": "completed"
    },
    "tags": []
   },
   "source": [
    "\n",
    "\n",
    "##### value_counts() method shows how many samples it is for the glass type. "
   ]
  },
  {
   "cell_type": "code",
   "execution_count": 9,
   "metadata": {
    "ExecuteTime": {
     "end_time": "2021-04-06T12:33:21.123007Z",
     "start_time": "2021-04-06T12:33:21.106594Z"
    },
    "execution": {
     "iopub.execute_input": "2021-04-06T12:42:57.403844Z",
     "iopub.status.busy": "2021-04-06T12:42:57.402678Z",
     "iopub.status.idle": "2021-04-06T12:42:57.407694Z",
     "shell.execute_reply": "2021-04-06T12:42:57.407020Z"
    },
    "papermill": {
     "duration": 0.074306,
     "end_time": "2021-04-06T12:42:57.407833",
     "exception": false,
     "start_time": "2021-04-06T12:42:57.333527",
     "status": "completed"
    },
    "tags": []
   },
   "outputs": [
    {
     "data": {
      "text/plain": [
       "2    76\n",
       "1    69\n",
       "7    29\n",
       "3    17\n",
       "5    13\n",
       "6     9\n",
       "Name: Type, dtype: int64"
      ]
     },
     "execution_count": 9,
     "metadata": {},
     "output_type": "execute_result"
    }
   ],
   "source": [
    "glass['Type'].value_counts()"
   ]
  },
  {
   "cell_type": "markdown",
   "metadata": {
    "papermill": {
     "duration": 0.062198,
     "end_time": "2021-04-06T12:42:57.534288",
     "exception": false,
     "start_time": "2021-04-06T12:42:57.472090",
     "status": "completed"
    },
    "tags": []
   },
   "source": [
    "##### We can see the most frequent type of glasses are type 2 and type 1 in our data with the maximum value of 76 and 70. We can see the value counts of all the types. The data is imbalanced. The sets of data in which classes are not evenly distributed are called imbalanced datasets.The imbalance dataset can cause high/low accuracy value of the model due to a certain class."
   ]
  },
  {
   "cell_type": "code",
   "execution_count": 10,
   "metadata": {
    "ExecuteTime": {
     "end_time": "2021-04-06T12:33:21.454816Z",
     "start_time": "2021-04-06T12:33:21.127034Z"
    },
    "execution": {
     "iopub.execute_input": "2021-04-06T12:42:57.682563Z",
     "iopub.status.busy": "2021-04-06T12:42:57.681881Z",
     "iopub.status.idle": "2021-04-06T12:42:57.900051Z",
     "shell.execute_reply": "2021-04-06T12:42:57.899352Z"
    },
    "papermill": {
     "duration": 0.302259,
     "end_time": "2021-04-06T12:42:57.900220",
     "exception": false,
     "start_time": "2021-04-06T12:42:57.597961",
     "status": "completed"
    },
    "tags": []
   },
   "outputs": [
    {
     "data": {
      "text/plain": [
       "<AxesSubplot:xlabel='Type', ylabel='count'>"
      ]
     },
     "execution_count": 10,
     "metadata": {},
     "output_type": "execute_result"
    },
    {
     "data": {
      "image/png": "[encoded data removed]",
      "text/plain": [
       "<Figure size 864x504 with 1 Axes>"
      ]
     },
     "metadata": {},
     "output_type": "display_data"
    }
   ],
   "source": [
    "sn.set(style = 'whitegrid', font_scale = 1.4)\n",
    "plt.subplots(figsize = (12,7))\n",
    "sn.countplot(x = 'Type', data = glass, palette = 'Pastel1')"
   ]
  },
  {
   "cell_type": "markdown",
   "metadata": {
    "papermill": {
     "duration": 0.065289,
     "end_time": "2021-04-06T12:42:58.031148",
     "exception": false,
     "start_time": "2021-04-06T12:42:57.965859",
     "status": "completed"
    },
    "tags": []
   },
   "source": [
    "# Data visualization"
   ]
  },
  {
   "cell_type": "code",
   "execution_count": 11,
   "metadata": {
    "ExecuteTime": {
     "end_time": "2021-04-06T12:33:21.794316Z",
     "start_time": "2021-04-06T12:33:21.456980Z"
    },
    "execution": {
     "iopub.execute_input": "2021-04-06T12:42:58.165583Z",
     "iopub.status.busy": "2021-04-06T12:42:58.164869Z",
     "iopub.status.idle": "2021-04-06T12:42:58.326123Z",
     "shell.execute_reply": "2021-04-06T12:42:58.325467Z"
    },
    "papermill": {
     "duration": 0.229525,
     "end_time": "2021-04-06T12:42:58.326273",
     "exception": false,
     "start_time": "2021-04-06T12:42:58.096748",
     "status": "completed"
    },
    "tags": []
   },
   "outputs": [
    {
     "name": "stderr",
     "output_type": "stream",
     "text": [
      "/opt/conda/lib/python3.7/site-packages/seaborn/_decorators.py:43: FutureWarning: Pass the following variable as a keyword arg: x. From version 0.12, the only valid positional argument will be `data`, and passing other arguments without an explicit keyword will result in an error or misinterpretation.\n",
      "  FutureWarning\n"
     ]
    },
    {
     "data": {
      "text/plain": [
       "<AxesSubplot:xlabel='RI'>"
      ]
     },
     "execution_count": 11,
     "metadata": {},
     "output_type": "execute_result"
    },
    {
     "data": {
      "image/png": "[encoded data removed]",
      "text/plain": [
       "<Figure size 432x288 with 1 Axes>"
      ]
     },
     "metadata": {},
     "output_type": "display_data"
    }
   ],
   "source": [
    "sn.boxplot(glass['RI'])"
   ]
  },
  {
   "cell_type": "code",
   "execution_count": 12,
   "metadata": {
    "ExecuteTime": {
     "end_time": "2021-04-06T12:33:22.058916Z",
     "start_time": "2021-04-06T12:33:21.798270Z"
    },
    "execution": {
     "iopub.execute_input": "2021-04-06T12:42:58.483633Z",
     "iopub.status.busy": "2021-04-06T12:42:58.480329Z",
     "iopub.status.idle": "2021-04-06T12:42:58.604524Z",
     "shell.execute_reply": "2021-04-06T12:42:58.603930Z"
    },
    "papermill": {
     "duration": 0.213194,
     "end_time": "2021-04-06T12:42:58.604670",
     "exception": false,
     "start_time": "2021-04-06T12:42:58.391476",
     "status": "completed"
    },
    "tags": []
   },
   "outputs": [
    {
     "name": "stderr",
     "output_type": "stream",
     "text": [
      "/opt/conda/lib/python3.7/site-packages/seaborn/_decorators.py:43: FutureWarning: Pass the following variable as a keyword arg: x. From version 0.12, the only valid positional argument will be `data`, and passing other arguments without an explicit keyword will result in an error or misinterpretation.\n",
      "  FutureWarning\n"
     ]
    },
    {
     "data": {
      "text/plain": [
       "<AxesSubplot:xlabel='Na'>"
      ]
     },
     "execution_count": 12,
     "metadata": {},
     "output_type": "execute_result"
    },
    {
     "data": {
      "image/png": "[encoded data removed]",
      "text/plain": [
       "<Figure size 432x288 with 1 Axes>"
      ]
     },
     "metadata": {},
     "output_type": "display_data"
    }
   ],
   "source": [
    "sn.boxplot(glass['Na'])"
   ]
  },
  {
   "cell_type": "code",
   "execution_count": 13,
   "metadata": {
    "ExecuteTime": {
     "end_time": "2021-04-06T12:33:22.309049Z",
     "start_time": "2021-04-06T12:33:22.064356Z"
    },
    "execution": {
     "iopub.execute_input": "2021-04-06T12:42:58.771147Z",
     "iopub.status.busy": "2021-04-06T12:42:58.766795Z",
     "iopub.status.idle": "2021-04-06T12:42:58.918470Z",
     "shell.execute_reply": "2021-04-06T12:42:58.918982Z"
    },
    "papermill": {
     "duration": 0.247974,
     "end_time": "2021-04-06T12:42:58.919204",
     "exception": false,
     "start_time": "2021-04-06T12:42:58.671230",
     "status": "completed"
    },
    "tags": []
   },
   "outputs": [
    {
     "name": "stderr",
     "output_type": "stream",
     "text": [
      "/opt/conda/lib/python3.7/site-packages/seaborn/_decorators.py:43: FutureWarning: Pass the following variable as a keyword arg: x. From version 0.12, the only valid positional argument will be `data`, and passing other arguments without an explicit keyword will result in an error or misinterpretation.\n",
      "  FutureWarning\n"
     ]
    },
    {
     "data": {
      "text/plain": [
       "<AxesSubplot:xlabel='Mg'>"
      ]
     },
     "execution_count": 13,
     "metadata": {},
     "output_type": "execute_result"
    },
    {
     "data": {
      "image/png": "[encoded data removed]",
      "text/plain": [
       "<Figure size 432x288 with 1 Axes>"
      ]
     },
     "metadata": {},
     "output_type": "display_data"
    }
   ],
   "source": [
    "sn.boxplot(glass['Mg'])"
   ]
  },
  {
   "cell_type": "code",
   "execution_count": 14,
   "metadata": {
    "ExecuteTime": {
     "end_time": "2021-04-06T12:33:22.527545Z",
     "start_time": "2021-04-06T12:33:22.311649Z"
    },
    "execution": {
     "iopub.execute_input": "2021-04-06T12:42:59.071092Z",
     "iopub.status.busy": "2021-04-06T12:42:59.070341Z",
     "iopub.status.idle": "2021-04-06T12:42:59.215192Z",
     "shell.execute_reply": "2021-04-06T12:42:59.214497Z"
    },
    "papermill": {
     "duration": 0.224832,
     "end_time": "2021-04-06T12:42:59.215338",
     "exception": false,
     "start_time": "2021-04-06T12:42:58.990506",
     "status": "completed"
    },
    "tags": []
   },
   "outputs": [
    {
     "name": "stderr",
     "output_type": "stream",
     "text": [
      "/opt/conda/lib/python3.7/site-packages/seaborn/_decorators.py:43: FutureWarning: Pass the following variable as a keyword arg: x. From version 0.12, the only valid positional argument will be `data`, and passing other arguments without an explicit keyword will result in an error or misinterpretation.\n",
      "  FutureWarning\n"
     ]
    },
    {
     "data": {
      "text/plain": [
       "<AxesSubplot:xlabel='Al'>"
      ]
     },
     "execution_count": 14,
     "metadata": {},
     "output_type": "execute_result"
    },
    {
     "data": {
      "image/png": "[encoded data removed]",
      "text/plain": [
       "<Figure size 432x288 with 1 Axes>"
      ]
     },
     "metadata": {},
     "output_type": "display_data"
    }
   ],
   "source": [
    "sn.boxplot(glass['Al'])"
   ]
  },
  {
   "cell_type": "code",
   "execution_count": 15,
   "metadata": {
    "ExecuteTime": {
     "end_time": "2021-04-06T12:33:22.736353Z",
     "start_time": "2021-04-06T12:33:22.528885Z"
    },
    "execution": {
     "iopub.execute_input": "2021-04-06T12:42:59.380784Z",
     "iopub.status.busy": "2021-04-06T12:42:59.379701Z",
     "iopub.status.idle": "2021-04-06T12:42:59.533409Z",
     "shell.execute_reply": "2021-04-06T12:42:59.532683Z"
    },
    "papermill": {
     "duration": 0.248367,
     "end_time": "2021-04-06T12:42:59.533563",
     "exception": false,
     "start_time": "2021-04-06T12:42:59.285196",
     "status": "completed"
    },
    "tags": []
   },
   "outputs": [
    {
     "name": "stderr",
     "output_type": "stream",
     "text": [
      "/opt/conda/lib/python3.7/site-packages/seaborn/_decorators.py:43: FutureWarning: Pass the following variable as a keyword arg: x. From version 0.12, the only valid positional argument will be `data`, and passing other arguments without an explicit keyword will result in an error or misinterpretation.\n",
      "  FutureWarning\n"
     ]
    },
    {
     "data": {
      "text/plain": [
       "<AxesSubplot:xlabel='Si'>"
      ]
     },
     "execution_count": 15,
     "metadata": {},
     "output_type": "execute_result"
    },
    {
     "data": {
      "image/png": "[encoded data removed]",
      "text/plain": [
       "<Figure size 432x288 with 1 Axes>"
      ]
     },
     "metadata": {},
     "output_type": "display_data"
    }
   ],
   "source": [
    "sn.boxplot(glass['Si'])"
   ]
  },
  {
   "cell_type": "code",
   "execution_count": 16,
   "metadata": {
    "ExecuteTime": {
     "end_time": "2021-04-06T12:33:23.014157Z",
     "start_time": "2021-04-06T12:33:22.740694Z"
    },
    "execution": {
     "iopub.execute_input": "2021-04-06T12:42:59.705741Z",
     "iopub.status.busy": "2021-04-06T12:42:59.704983Z",
     "iopub.status.idle": "2021-04-06T12:42:59.852172Z",
     "shell.execute_reply": "2021-04-06T12:42:59.851607Z"
    },
    "papermill": {
     "duration": 0.246966,
     "end_time": "2021-04-06T12:42:59.852318",
     "exception": false,
     "start_time": "2021-04-06T12:42:59.605352",
     "status": "completed"
    },
    "tags": []
   },
   "outputs": [
    {
     "name": "stderr",
     "output_type": "stream",
     "text": [
      "/opt/conda/lib/python3.7/site-packages/seaborn/_decorators.py:43: FutureWarning: Pass the following variable as a keyword arg: x. From version 0.12, the only valid positional argument will be `data`, and passing other arguments without an explicit keyword will result in an error or misinterpretation.\n",
      "  FutureWarning\n"
     ]
    },
    {
     "data": {
      "text/plain": [
       "<AxesSubplot:xlabel='K'>"
      ]
     },
     "execution_count": 16,
     "metadata": {},
     "output_type": "execute_result"
    },
    {
     "data": {
      "image/png": "[encoded data removed]",
      "text/plain": [
       "<Figure size 432x288 with 1 Axes>"
      ]
     },
     "metadata": {},
     "output_type": "display_data"
    }
   ],
   "source": [
    "sn.boxplot(glass['K'])"
   ]
  },
  {
   "cell_type": "code",
   "execution_count": 17,
   "metadata": {
    "ExecuteTime": {
     "end_time": "2021-04-06T12:33:23.230186Z",
     "start_time": "2021-04-06T12:33:23.017481Z"
    },
    "execution": {
     "iopub.execute_input": "2021-04-06T12:43:00.040234Z",
     "iopub.status.busy": "2021-04-06T12:43:00.032723Z",
     "iopub.status.idle": "2021-04-06T12:43:00.177764Z",
     "shell.execute_reply": "2021-04-06T12:43:00.177178Z"
    },
    "papermill": {
     "duration": 0.25299,
     "end_time": "2021-04-06T12:43:00.177907",
     "exception": false,
     "start_time": "2021-04-06T12:42:59.924917",
     "status": "completed"
    },
    "tags": []
   },
   "outputs": [
    {
     "name": "stderr",
     "output_type": "stream",
     "text": [
      "/opt/conda/lib/python3.7/site-packages/seaborn/_decorators.py:43: FutureWarning: Pass the following variable as a keyword arg: x. From version 0.12, the only valid positional argument will be `data`, and passing other arguments without an explicit keyword will result in an error or misinterpretation.\n",
      "  FutureWarning\n"
     ]
    },
    {
     "data": {
      "text/plain": [
       "<AxesSubplot:xlabel='Ca'>"
      ]
     },
     "execution_count": 17,
     "metadata": {},
     "output_type": "execute_result"
    },
    {
     "data": {
      "image/png": "[encoded data removed]",
      "text/plain": [
       "<Figure size 432x288 with 1 Axes>"
      ]
     },
     "metadata": {},
     "output_type": "display_data"
    }
   ],
   "source": [
    "sn.boxplot(glass['Ca'])"
   ]
  },
  {
   "cell_type": "code",
   "execution_count": 18,
   "metadata": {
    "ExecuteTime": {
     "end_time": "2021-04-06T12:33:23.566841Z",
     "start_time": "2021-04-06T12:33:23.233671Z"
    },
    "execution": {
     "iopub.execute_input": "2021-04-06T12:43:00.453849Z",
     "iopub.status.busy": "2021-04-06T12:43:00.451378Z",
     "iopub.status.idle": "2021-04-06T12:43:00.612442Z",
     "shell.execute_reply": "2021-04-06T12:43:00.611743Z"
    },
    "papermill": {
     "duration": 0.359978,
     "end_time": "2021-04-06T12:43:00.612600",
     "exception": false,
     "start_time": "2021-04-06T12:43:00.252622",
     "status": "completed"
    },
    "tags": []
   },
   "outputs": [
    {
     "name": "stderr",
     "output_type": "stream",
     "text": [
      "/opt/conda/lib/python3.7/site-packages/seaborn/_decorators.py:43: FutureWarning: Pass the following variable as a keyword arg: x. From version 0.12, the only valid positional argument will be `data`, and passing other arguments without an explicit keyword will result in an error or misinterpretation.\n",
      "  FutureWarning\n"
     ]
    },
    {
     "data": {
      "text/plain": [
       "<AxesSubplot:xlabel='Ba'>"
      ]
     },
     "execution_count": 18,
     "metadata": {},
     "output_type": "execute_result"
    },
    {
     "data": {
      "image/png": "[encoded data removed]",
      "text/plain": [
       "<Figure size 432x288 with 1 Axes>"
      ]
     },
     "metadata": {},
     "output_type": "display_data"
    }
   ],
   "source": [
    "sn.boxplot(glass['Ba'])"
   ]
  },
  {
   "cell_type": "code",
   "execution_count": 19,
   "metadata": {
    "ExecuteTime": {
     "end_time": "2021-04-06T12:33:23.870938Z",
     "start_time": "2021-04-06T12:33:23.570556Z"
    },
    "execution": {
     "iopub.execute_input": "2021-04-06T12:43:00.799850Z",
     "iopub.status.busy": "2021-04-06T12:43:00.796450Z",
     "iopub.status.idle": "2021-04-06T12:43:00.936259Z",
     "shell.execute_reply": "2021-04-06T12:43:00.936797Z"
    },
    "papermill": {
     "duration": 0.248484,
     "end_time": "2021-04-06T12:43:00.937023",
     "exception": false,
     "start_time": "2021-04-06T12:43:00.688539",
     "status": "completed"
    },
    "tags": []
   },
   "outputs": [
    {
     "name": "stderr",
     "output_type": "stream",
     "text": [
      "/opt/conda/lib/python3.7/site-packages/seaborn/_decorators.py:43: FutureWarning: Pass the following variable as a keyword arg: x. From version 0.12, the only valid positional argument will be `data`, and passing other arguments without an explicit keyword will result in an error or misinterpretation.\n",
      "  FutureWarning\n"
     ]
    },
    {
     "data": {
      "text/plain": [
       "<AxesSubplot:xlabel='Fe'>"
      ]
     },
     "execution_count": 19,
     "metadata": {},
     "output_type": "execute_result"
    },
    {
     "data": {
      "image/png": "[encoded data removed]",
      "text/plain": [
       "<Figure size 432x288 with 1 Axes>"
      ]
     },
     "metadata": {},
     "output_type": "display_data"
    }
   ],
   "source": [
    "sn.boxplot(glass['Fe'])"
   ]
  },
  {
   "cell_type": "code",
   "execution_count": 20,
   "metadata": {
    "ExecuteTime": {
     "end_time": "2021-04-06T12:33:24.119794Z",
     "start_time": "2021-04-06T12:33:23.872103Z"
    },
    "execution": {
     "iopub.execute_input": "2021-04-06T12:43:01.096308Z",
     "iopub.status.busy": "2021-04-06T12:43:01.095500Z",
     "iopub.status.idle": "2021-04-06T12:43:01.267845Z",
     "shell.execute_reply": "2021-04-06T12:43:01.268335Z"
    },
    "papermill": {
     "duration": 0.253423,
     "end_time": "2021-04-06T12:43:01.268520",
     "exception": false,
     "start_time": "2021-04-06T12:43:01.015097",
     "status": "completed"
    },
    "tags": []
   },
   "outputs": [
    {
     "name": "stderr",
     "output_type": "stream",
     "text": [
      "/opt/conda/lib/python3.7/site-packages/seaborn/_decorators.py:43: FutureWarning: Pass the following variable as a keyword arg: x. From version 0.12, the only valid positional argument will be `data`, and passing other arguments without an explicit keyword will result in an error or misinterpretation.\n",
      "  FutureWarning\n"
     ]
    },
    {
     "data": {
      "text/plain": [
       "<AxesSubplot:xlabel='Type'>"
      ]
     },
     "execution_count": 20,
     "metadata": {},
     "output_type": "execute_result"
    },
    {
     "data": {
      "image/png": "[encoded data removed]",
      "text/plain": [
       "<Figure size 432x288 with 1 Axes>"
      ]
     },
     "metadata": {},
     "output_type": "display_data"
    }
   ],
   "source": [
    "sn.boxplot(glass['Type'])"
   ]
  },
  {
   "cell_type": "markdown",
   "metadata": {
    "papermill": {
     "duration": 0.077808,
     "end_time": "2021-04-06T12:43:01.424589",
     "exception": false,
     "start_time": "2021-04-06T12:43:01.346781",
     "status": "completed"
    },
    "tags": []
   },
   "source": [
    "### Observations :-"
   ]
  },
  {
   "cell_type": "markdown",
   "metadata": {
    "papermill": {
     "duration": 0.077835,
     "end_time": "2021-04-06T12:43:01.582687",
     "exception": false,
     "start_time": "2021-04-06T12:43:01.504852",
     "status": "completed"
    },
    "tags": []
   },
   "source": [
    "1. We can see there are outliers in all the columns except Mg. The Type column is also having outlier as we already saw the value counts are very less for type 7\n",
    "2. The median line for Mg and K is towards the upper quartile which means the data is skewed.We will check the distplots and confirm the same."
   ]
  },
  {
   "cell_type": "markdown",
   "metadata": {
    "papermill": {
     "duration": 0.077578,
     "end_time": "2021-04-06T12:43:01.738263",
     "exception": false,
     "start_time": "2021-04-06T12:43:01.660685",
     "status": "completed"
    },
    "tags": []
   },
   "source": [
    "### Distplots"
   ]
  },
  {
   "cell_type": "markdown",
   "metadata": {
    "papermill": {
     "duration": 0.077143,
     "end_time": "2021-04-06T12:43:01.897913",
     "exception": false,
     "start_time": "2021-04-06T12:43:01.820770",
     "status": "completed"
    },
    "tags": []
   },
   "source": [
    "Dist plots are used to check the distribution of the data, peak value(the observation having the highest frequecy) and check for skewness in the data"
   ]
  },
  {
   "cell_type": "code",
   "execution_count": 21,
   "metadata": {
    "ExecuteTime": {
     "end_time": "2021-04-06T12:33:24.463832Z",
     "start_time": "2021-04-06T12:33:24.124582Z"
    },
    "execution": {
     "iopub.execute_input": "2021-04-06T12:43:02.059748Z",
     "iopub.status.busy": "2021-04-06T12:43:02.059052Z",
     "iopub.status.idle": "2021-04-06T12:43:02.355095Z",
     "shell.execute_reply": "2021-04-06T12:43:02.354482Z"
    },
    "papermill": {
     "duration": 0.378251,
     "end_time": "2021-04-06T12:43:02.355243",
     "exception": false,
     "start_time": "2021-04-06T12:43:01.976992",
     "status": "completed"
    },
    "tags": []
   },
   "outputs": [
    {
     "name": "stderr",
     "output_type": "stream",
     "text": [
      "/opt/conda/lib/python3.7/site-packages/seaborn/distributions.py:2557: FutureWarning: `distplot` is a deprecated function and will be removed in a future version. Please adapt your code to use either `displot` (a figure-level function with similar flexibility) or `histplot` (an axes-level function for histograms).\n",
      "  warnings.warn(msg, FutureWarning)\n"
     ]
    },
    {
     "data": {
      "text/plain": [
       "<AxesSubplot:xlabel='RI', ylabel='Density'>"
      ]
     },
     "execution_count": 21,
     "metadata": {},
     "output_type": "execute_result"
    },
    {
     "data": {
      "image/png": "[encoded data removed]",
      "text/plain": [
       "<Figure size 432x288 with 1 Axes>"
      ]
     },
     "metadata": {},
     "output_type": "display_data"
    }
   ],
   "source": [
    "sn.distplot(glass['RI'])"
   ]
  },
  {
   "cell_type": "code",
   "execution_count": 22,
   "metadata": {
    "ExecuteTime": {
     "end_time": "2021-04-06T12:33:24.889354Z",
     "start_time": "2021-04-06T12:33:24.468850Z"
    },
    "execution": {
     "iopub.execute_input": "2021-04-06T12:43:02.550480Z",
     "iopub.status.busy": "2021-04-06T12:43:02.545017Z",
     "iopub.status.idle": "2021-04-06T12:43:02.762248Z",
     "shell.execute_reply": "2021-04-06T12:43:02.761656Z"
    },
    "papermill": {
     "duration": 0.32681,
     "end_time": "2021-04-06T12:43:02.762394",
     "exception": false,
     "start_time": "2021-04-06T12:43:02.435584",
     "status": "completed"
    },
    "tags": []
   },
   "outputs": [
    {
     "name": "stderr",
     "output_type": "stream",
     "text": [
      "/opt/conda/lib/python3.7/site-packages/seaborn/distributions.py:2557: FutureWarning: `distplot` is a deprecated function and will be removed in a future version. Please adapt your code to use either `displot` (a figure-level function with similar flexibility) or `histplot` (an axes-level function for histograms).\n",
      "  warnings.warn(msg, FutureWarning)\n"
     ]
    },
    {
     "data": {
      "text/plain": [
       "<AxesSubplot:xlabel='Na', ylabel='Density'>"
      ]
     },
     "execution_count": 22,
     "metadata": {},
     "output_type": "execute_result"
    },
    {
     "data": {
      "image/png": "[encoded data removed]",
      "text/plain": [
       "<Figure size 432x288 with 1 Axes>"
      ]
     },
     "metadata": {},
     "output_type": "display_data"
    }
   ],
   "source": [
    "sn.distplot(glass['Na'])"
   ]
  },
  {
   "cell_type": "code",
   "execution_count": 23,
   "metadata": {
    "ExecuteTime": {
     "end_time": "2021-04-06T12:33:25.314825Z",
     "start_time": "2021-04-06T12:33:24.896406Z"
    },
    "execution": {
     "iopub.execute_input": "2021-04-06T12:43:02.952881Z",
     "iopub.status.busy": "2021-04-06T12:43:02.948758Z",
     "iopub.status.idle": "2021-04-06T12:43:03.139866Z",
     "shell.execute_reply": "2021-04-06T12:43:03.139276Z"
    },
    "papermill": {
     "duration": 0.294573,
     "end_time": "2021-04-06T12:43:03.140025",
     "exception": false,
     "start_time": "2021-04-06T12:43:02.845452",
     "status": "completed"
    },
    "tags": []
   },
   "outputs": [
    {
     "name": "stderr",
     "output_type": "stream",
     "text": [
      "/opt/conda/lib/python3.7/site-packages/seaborn/distributions.py:2557: FutureWarning: `distplot` is a deprecated function and will be removed in a future version. Please adapt your code to use either `displot` (a figure-level function with similar flexibility) or `histplot` (an axes-level function for histograms).\n",
      "  warnings.warn(msg, FutureWarning)\n"
     ]
    },
    {
     "data": {
      "text/plain": [
       "<AxesSubplot:xlabel='Mg', ylabel='Density'>"
      ]
     },
     "execution_count": 23,
     "metadata": {},
     "output_type": "execute_result"
    },
    {
     "data": {
      "image/png": "[encoded data removed]",
      "text/plain": [
       "<Figure size 432x288 with 1 Axes>"
      ]
     },
     "metadata": {},
     "output_type": "display_data"
    }
   ],
   "source": [
    "sn.distplot(glass['Mg'])"
   ]
  },
  {
   "cell_type": "code",
   "execution_count": 24,
   "metadata": {
    "ExecuteTime": {
     "end_time": "2021-04-06T12:33:25.747311Z",
     "start_time": "2021-04-06T12:33:25.318980Z"
    },
    "execution": {
     "iopub.execute_input": "2021-04-06T12:43:03.344802Z",
     "iopub.status.busy": "2021-04-06T12:43:03.342000Z",
     "iopub.status.idle": "2021-04-06T12:43:03.564490Z",
     "shell.execute_reply": "2021-04-06T12:43:03.565003Z"
    },
    "papermill": {
     "duration": 0.339299,
     "end_time": "2021-04-06T12:43:03.565203",
     "exception": false,
     "start_time": "2021-04-06T12:43:03.225904",
     "status": "completed"
    },
    "tags": []
   },
   "outputs": [
    {
     "name": "stderr",
     "output_type": "stream",
     "text": [
      "/opt/conda/lib/python3.7/site-packages/seaborn/distributions.py:2557: FutureWarning: `distplot` is a deprecated function and will be removed in a future version. Please adapt your code to use either `displot` (a figure-level function with similar flexibility) or `histplot` (an axes-level function for histograms).\n",
      "  warnings.warn(msg, FutureWarning)\n"
     ]
    },
    {
     "data": {
      "text/plain": [
       "<AxesSubplot:xlabel='Al', ylabel='Density'>"
      ]
     },
     "execution_count": 24,
     "metadata": {},
     "output_type": "execute_result"
    },
    {
     "data": {
      "image/png": "[encoded data removed]",
      "text/plain": [
       "<Figure size 432x288 with 1 Axes>"
      ]
     },
     "metadata": {},
     "output_type": "display_data"
    }
   ],
   "source": [
    "sn.distplot(glass['Al'])"
   ]
  },
  {
   "cell_type": "code",
   "execution_count": 25,
   "metadata": {
    "ExecuteTime": {
     "end_time": "2021-04-06T12:33:26.069767Z",
     "start_time": "2021-04-06T12:33:25.750778Z"
    },
    "execution": {
     "iopub.execute_input": "2021-04-06T12:43:03.757372Z",
     "iopub.status.busy": "2021-04-06T12:43:03.756596Z",
     "iopub.status.idle": "2021-04-06T12:43:03.970314Z",
     "shell.execute_reply": "2021-04-06T12:43:03.970791Z"
    },
    "papermill": {
     "duration": 0.320832,
     "end_time": "2021-04-06T12:43:03.970975",
     "exception": false,
     "start_time": "2021-04-06T12:43:03.650143",
     "status": "completed"
    },
    "tags": []
   },
   "outputs": [
    {
     "name": "stderr",
     "output_type": "stream",
     "text": [
      "/opt/conda/lib/python3.7/site-packages/seaborn/distributions.py:2557: FutureWarning: `distplot` is a deprecated function and will be removed in a future version. Please adapt your code to use either `displot` (a figure-level function with similar flexibility) or `histplot` (an axes-level function for histograms).\n",
      "  warnings.warn(msg, FutureWarning)\n"
     ]
    },
    {
     "data": {
      "text/plain": [
       "<AxesSubplot:xlabel='Si', ylabel='Density'>"
      ]
     },
     "execution_count": 25,
     "metadata": {},
     "output_type": "execute_result"
    },
    {
     "data": {
      "image/png": "[encoded data removed]",
      "text/plain": [
       "<Figure size 432x288 with 1 Axes>"
      ]
     },
     "metadata": {},
     "output_type": "display_data"
    }
   ],
   "source": [
    "sn.distplot(glass['Si'])"
   ]
  },
  {
   "cell_type": "code",
   "execution_count": 26,
   "metadata": {
    "ExecuteTime": {
     "end_time": "2021-04-06T12:33:26.480357Z",
     "start_time": "2021-04-06T12:33:26.074453Z"
    },
    "execution": {
     "iopub.execute_input": "2021-04-06T12:43:04.167889Z",
     "iopub.status.busy": "2021-04-06T12:43:04.164163Z",
     "iopub.status.idle": "2021-04-06T12:43:04.437896Z",
     "shell.execute_reply": "2021-04-06T12:43:04.437212Z"
    },
    "papermill": {
     "duration": 0.37816,
     "end_time": "2021-04-06T12:43:04.438055",
     "exception": false,
     "start_time": "2021-04-06T12:43:04.059895",
     "status": "completed"
    },
    "tags": []
   },
   "outputs": [
    {
     "name": "stderr",
     "output_type": "stream",
     "text": [
      "/opt/conda/lib/python3.7/site-packages/seaborn/distributions.py:2557: FutureWarning: `distplot` is a deprecated function and will be removed in a future version. Please adapt your code to use either `displot` (a figure-level function with similar flexibility) or `histplot` (an axes-level function for histograms).\n",
      "  warnings.warn(msg, FutureWarning)\n"
     ]
    },
    {
     "data": {
      "text/plain": [
       "<AxesSubplot:xlabel='K', ylabel='Density'>"
      ]
     },
     "execution_count": 26,
     "metadata": {},
     "output_type": "execute_result"
    },
    {
     "data": {
      "image/png": "[encoded data removed]",
      "text/plain": [
       "<Figure size 432x288 with 1 Axes>"
      ]
     },
     "metadata": {},
     "output_type": "display_data"
    }
   ],
   "source": [
    "sn.distplot(glass['K'])"
   ]
  },
  {
   "cell_type": "code",
   "execution_count": 27,
   "metadata": {
    "ExecuteTime": {
     "end_time": "2021-04-06T12:33:26.853260Z",
     "start_time": "2021-04-06T12:33:26.484322Z"
    },
    "execution": {
     "iopub.execute_input": "2021-04-06T12:43:04.639358Z",
     "iopub.status.busy": "2021-04-06T12:43:04.638274Z",
     "iopub.status.idle": "2021-04-06T12:43:04.917008Z",
     "shell.execute_reply": "2021-04-06T12:43:04.916070Z"
    },
    "papermill": {
     "duration": 0.388525,
     "end_time": "2021-04-06T12:43:04.917243",
     "exception": false,
     "start_time": "2021-04-06T12:43:04.528718",
     "status": "completed"
    },
    "tags": []
   },
   "outputs": [
    {
     "name": "stderr",
     "output_type": "stream",
     "text": [
      "/opt/conda/lib/python3.7/site-packages/seaborn/distributions.py:2557: FutureWarning: `distplot` is a deprecated function and will be removed in a future version. Please adapt your code to use either `displot` (a figure-level function with similar flexibility) or `histplot` (an axes-level function for histograms).\n",
      "  warnings.warn(msg, FutureWarning)\n"
     ]
    },
    {
     "data": {
      "text/plain": [
       "<AxesSubplot:xlabel='Ca', ylabel='Density'>"
      ]
     },
     "execution_count": 27,
     "metadata": {},
     "output_type": "execute_result"
    },
    {
     "data": {
      "image/png": "[encoded data removed]",
      "text/plain": [
       "<Figure size 432x288 with 1 Axes>"
      ]
     },
     "metadata": {},
     "output_type": "display_data"
    }
   ],
   "source": [
    "sn.distplot(glass['Ca'])"
   ]
  },
  {
   "cell_type": "code",
   "execution_count": 28,
   "metadata": {
    "ExecuteTime": {
     "end_time": "2021-04-06T12:33:27.062749Z",
     "start_time": "2021-04-06T12:33:26.855321Z"
    },
    "execution": {
     "iopub.execute_input": "2021-04-06T12:43:05.139443Z",
     "iopub.status.busy": "2021-04-06T12:43:05.136358Z",
     "iopub.status.idle": "2021-04-06T12:43:05.317698Z",
     "shell.execute_reply": "2021-04-06T12:43:05.317166Z"
    },
    "papermill": {
     "duration": 0.302948,
     "end_time": "2021-04-06T12:43:05.317845",
     "exception": false,
     "start_time": "2021-04-06T12:43:05.014897",
     "status": "completed"
    },
    "tags": []
   },
   "outputs": [
    {
     "name": "stderr",
     "output_type": "stream",
     "text": [
      "/opt/conda/lib/python3.7/site-packages/seaborn/distributions.py:2557: FutureWarning: `distplot` is a deprecated function and will be removed in a future version. Please adapt your code to use either `displot` (a figure-level function with similar flexibility) or `histplot` (an axes-level function for histograms).\n",
      "  warnings.warn(msg, FutureWarning)\n"
     ]
    },
    {
     "data": {
      "text/plain": [
       "<AxesSubplot:xlabel='Ba', ylabel='Density'>"
      ]
     },
     "execution_count": 28,
     "metadata": {},
     "output_type": "execute_result"
    },
    {
     "data": {
      "image/png": "[encoded data removed]",
      "text/plain": [
       "<Figure size 432x288 with 1 Axes>"
      ]
     },
     "metadata": {},
     "output_type": "display_data"
    }
   ],
   "source": [
    "sn.distplot(glass['Ba'])"
   ]
  },
  {
   "cell_type": "code",
   "execution_count": 29,
   "metadata": {
    "ExecuteTime": {
     "end_time": "2021-04-06T12:33:27.332866Z",
     "start_time": "2021-04-06T12:33:27.065911Z"
    },
    "execution": {
     "iopub.execute_input": "2021-04-06T12:43:05.534357Z",
     "iopub.status.busy": "2021-04-06T12:43:05.529404Z",
     "iopub.status.idle": "2021-04-06T12:43:05.723029Z",
     "shell.execute_reply": "2021-04-06T12:43:05.722335Z"
    },
    "papermill": {
     "duration": 0.31253,
     "end_time": "2021-04-06T12:43:05.723190",
     "exception": false,
     "start_time": "2021-04-06T12:43:05.410660",
     "status": "completed"
    },
    "tags": []
   },
   "outputs": [
    {
     "name": "stderr",
     "output_type": "stream",
     "text": [
      "/opt/conda/lib/python3.7/site-packages/seaborn/distributions.py:2557: FutureWarning: `distplot` is a deprecated function and will be removed in a future version. Please adapt your code to use either `displot` (a figure-level function with similar flexibility) or `histplot` (an axes-level function for histograms).\n",
      "  warnings.warn(msg, FutureWarning)\n"
     ]
    },
    {
     "data": {
      "text/plain": [
       "<AxesSubplot:xlabel='Fe', ylabel='Density'>"
      ]
     },
     "execution_count": 29,
     "metadata": {},
     "output_type": "execute_result"
    },
    {
     "data": {
      "image/png": "[encoded data removed]",
      "text/plain": [
       "<Figure size 432x288 with 1 Axes>"
      ]
     },
     "metadata": {},
     "output_type": "display_data"
    }
   ],
   "source": [
    "sn.distplot(glass['Fe'])"
   ]
  },
  {
   "cell_type": "code",
   "execution_count": 30,
   "metadata": {
    "ExecuteTime": {
     "end_time": "2021-04-06T12:33:27.637373Z",
     "start_time": "2021-04-06T12:33:27.337547Z"
    },
    "execution": {
     "iopub.execute_input": "2021-04-06T12:43:05.949300Z",
     "iopub.status.busy": "2021-04-06T12:43:05.941293Z",
     "iopub.status.idle": "2021-04-06T12:43:06.145337Z",
     "shell.execute_reply": "2021-04-06T12:43:06.144544Z"
    },
    "papermill": {
     "duration": 0.328594,
     "end_time": "2021-04-06T12:43:06.145491",
     "exception": false,
     "start_time": "2021-04-06T12:43:05.816897",
     "status": "completed"
    },
    "tags": []
   },
   "outputs": [
    {
     "name": "stderr",
     "output_type": "stream",
     "text": [
      "/opt/conda/lib/python3.7/site-packages/seaborn/distributions.py:2557: FutureWarning: `distplot` is a deprecated function and will be removed in a future version. Please adapt your code to use either `displot` (a figure-level function with similar flexibility) or `histplot` (an axes-level function for histograms).\n",
      "  warnings.warn(msg, FutureWarning)\n"
     ]
    },
    {
     "data": {
      "text/plain": [
       "<AxesSubplot:xlabel='Type', ylabel='Density'>"
      ]
     },
     "execution_count": 30,
     "metadata": {},
     "output_type": "execute_result"
    },
    {
     "data": {
      "image/png": "[encoded data removed]",
      "text/plain": [
       "<Figure size 432x288 with 1 Axes>"
      ]
     },
     "metadata": {},
     "output_type": "display_data"
    }
   ],
   "source": [
    "sn.distplot(glass['Type'])"
   ]
  },
  {
   "cell_type": "markdown",
   "metadata": {
    "papermill": {
     "duration": 0.095465,
     "end_time": "2021-04-06T12:43:06.337224",
     "exception": false,
     "start_time": "2021-04-06T12:43:06.241759",
     "status": "completed"
    },
    "tags": []
   },
   "source": [
    "### Observations :-"
   ]
  },
  {
   "cell_type": "markdown",
   "metadata": {
    "papermill": {
     "duration": 0.097358,
     "end_time": "2021-04-06T12:43:06.530435",
     "exception": false,
     "start_time": "2021-04-06T12:43:06.433077",
     "status": "completed"
    },
    "tags": []
   },
   "source": [
    "1. There is very high positive skewness in RI, Na, Al, K, Ca, Ba, Fe and Type\n",
    "2. There is negative skewness in Mg and Si"
   ]
  },
  {
   "cell_type": "markdown",
   "metadata": {
    "papermill": {
     "duration": 0.094686,
     "end_time": "2021-04-06T12:43:06.720945",
     "exception": false,
     "start_time": "2021-04-06T12:43:06.626259",
     "status": "completed"
    },
    "tags": []
   },
   "source": [
    "# Heatmap"
   ]
  },
  {
   "cell_type": "markdown",
   "metadata": {
    "papermill": {
     "duration": 0.096218,
     "end_time": "2021-04-06T12:43:06.913748",
     "exception": false,
     "start_time": "2021-04-06T12:43:06.817530",
     "status": "completed"
    },
    "tags": []
   },
   "source": [
    "##### Heatmap is a very effective technique to check the missing values in the dataset and to also understand if there is any correlation between the features of the data"
   ]
  },
  {
   "cell_type": "code",
   "execution_count": 31,
   "metadata": {
    "ExecuteTime": {
     "end_time": "2021-04-06T12:33:28.031321Z",
     "start_time": "2021-04-06T12:33:27.639395Z"
    },
    "execution": {
     "iopub.execute_input": "2021-04-06T12:43:07.132784Z",
     "iopub.status.busy": "2021-04-06T12:43:07.129961Z",
     "iopub.status.idle": "2021-04-06T12:43:07.491663Z",
     "shell.execute_reply": "2021-04-06T12:43:07.490989Z"
    },
    "papermill": {
     "duration": 0.481502,
     "end_time": "2021-04-06T12:43:07.491812",
     "exception": false,
     "start_time": "2021-04-06T12:43:07.010310",
     "status": "completed"
    },
    "tags": []
   },
   "outputs": [
    {
     "data": {
      "text/plain": [
       "<AxesSubplot:>"
      ]
     },
     "execution_count": 31,
     "metadata": {},
     "output_type": "execute_result"
    },
    {
     "data": {
      "image/png": "[encoded data removed]",
      "text/plain": [
       "<Figure size 432x288 with 2 Axes>"
      ]
     },
     "metadata": {},
     "output_type": "display_data"
    }
   ],
   "source": [
    "Y = 'Type'\n",
    "X = ['RI', 'Na', 'Mg', 'Al', 'Si', 'K', 'Ca', 'Ba', 'Fe']\n",
    "\n",
    "\n",
    "sn.heatmap(glass[X].isnull())"
   ]
  },
  {
   "cell_type": "markdown",
   "metadata": {
    "papermill": {
     "duration": 0.098334,
     "end_time": "2021-04-06T12:43:07.690989",
     "exception": false,
     "start_time": "2021-04-06T12:43:07.592655",
     "status": "completed"
    },
    "tags": []
   },
   "source": [
    "### Observations :-"
   ]
  },
  {
   "cell_type": "markdown",
   "metadata": {
    "papermill": {
     "duration": 0.097341,
     "end_time": "2021-04-06T12:43:07.888473",
     "exception": false,
     "start_time": "2021-04-06T12:43:07.791132",
     "status": "completed"
    },
    "tags": []
   },
   "source": [
    "1. We don't have any missing values in our dataset. If it was present, there would be a different colour shade appearing on the red background. "
   ]
  },
  {
   "cell_type": "code",
   "execution_count": 32,
   "metadata": {
    "ExecuteTime": {
     "end_time": "2021-04-06T12:33:28.353556Z",
     "start_time": "2021-04-06T12:33:28.034591Z"
    },
    "execution": {
     "iopub.execute_input": "2021-04-06T12:43:08.098567Z",
     "iopub.status.busy": "2021-04-06T12:43:08.097520Z",
     "iopub.status.idle": "2021-04-06T12:43:08.443840Z",
     "shell.execute_reply": "2021-04-06T12:43:08.443233Z"
    },
    "papermill": {
     "duration": 0.452923,
     "end_time": "2021-04-06T12:43:08.443990",
     "exception": false,
     "start_time": "2021-04-06T12:43:07.991067",
     "status": "completed"
    },
    "tags": []
   },
   "outputs": [
    {
     "data": {
      "text/plain": [
       "<AxesSubplot:>"
      ]
     },
     "execution_count": 32,
     "metadata": {},
     "output_type": "execute_result"
    },
    {
     "data": {
      "image/png": "[encoded data removed]",
      "text/plain": [
       "<Figure size 432x288 with 2 Axes>"
      ]
     },
     "metadata": {},
     "output_type": "display_data"
    }
   ],
   "source": [
    "sn.heatmap(glass[X].corr())"
   ]
  },
  {
   "cell_type": "code",
   "execution_count": 33,
   "metadata": {
    "ExecuteTime": {
     "end_time": "2021-04-06T12:33:28.382647Z",
     "start_time": "2021-04-06T12:33:28.355549Z"
    },
    "execution": {
     "iopub.execute_input": "2021-04-06T12:43:08.666921Z",
     "iopub.status.busy": "2021-04-06T12:43:08.666272Z",
     "iopub.status.idle": "2021-04-06T12:43:08.672390Z",
     "shell.execute_reply": "2021-04-06T12:43:08.671753Z"
    },
    "papermill": {
     "duration": 0.128224,
     "end_time": "2021-04-06T12:43:08.672529",
     "exception": false,
     "start_time": "2021-04-06T12:43:08.544305",
     "status": "completed"
    },
    "tags": []
   },
   "outputs": [
    {
     "data": {
      "text/html": [
       "<div>\n",
       "<style scoped>\n",
       "    .dataframe tbody tr th:only-of-type {\n",
       "        vertical-align: middle;\n",
       "    }\n",
       "\n",
       "    .dataframe tbody tr th {\n",
       "        vertical-align: top;\n",
       "    }\n",
       "\n",
       "    .dataframe thead th {\n",
       "        text-align: right;\n",
       "    }\n",
       "</style>\n",
       "<table border=\"1\" class=\"dataframe\">\n",
       "  <thead>\n",
       "    <tr style=\"text-align: right;\">\n",
       "      <th></th>\n",
       "      <th>RI</th>\n",
       "      <th>Na</th>\n",
       "      <th>Mg</th>\n",
       "      <th>Al</th>\n",
       "      <th>Si</th>\n",
       "      <th>K</th>\n",
       "      <th>Ca</th>\n",
       "      <th>Ba</th>\n",
       "      <th>Fe</th>\n",
       "    </tr>\n",
       "  </thead>\n",
       "  <tbody>\n",
       "    <tr>\n",
       "      <th>RI</th>\n",
       "      <td>1.000000</td>\n",
       "      <td>-0.198802</td>\n",
       "      <td>-0.127526</td>\n",
       "      <td>-0.400973</td>\n",
       "      <td>-0.539000</td>\n",
       "      <td>-0.287645</td>\n",
       "      <td>0.811183</td>\n",
       "      <td>0.001679</td>\n",
       "      <td>0.147083</td>\n",
       "    </tr>\n",
       "    <tr>\n",
       "      <th>Na</th>\n",
       "      <td>-0.198802</td>\n",
       "      <td>1.000000</td>\n",
       "      <td>-0.278420</td>\n",
       "      <td>0.167735</td>\n",
       "      <td>-0.064885</td>\n",
       "      <td>-0.264158</td>\n",
       "      <td>-0.278194</td>\n",
       "      <td>0.329080</td>\n",
       "      <td>-0.239374</td>\n",
       "    </tr>\n",
       "    <tr>\n",
       "      <th>Mg</th>\n",
       "      <td>-0.127526</td>\n",
       "      <td>-0.278420</td>\n",
       "      <td>1.000000</td>\n",
       "      <td>-0.479575</td>\n",
       "      <td>-0.162437</td>\n",
       "      <td>0.007617</td>\n",
       "      <td>-0.446197</td>\n",
       "      <td>-0.491818</td>\n",
       "      <td>0.085426</td>\n",
       "    </tr>\n",
       "    <tr>\n",
       "      <th>Al</th>\n",
       "      <td>-0.400973</td>\n",
       "      <td>0.167735</td>\n",
       "      <td>-0.479575</td>\n",
       "      <td>1.000000</td>\n",
       "      <td>-0.016195</td>\n",
       "      <td>0.323683</td>\n",
       "      <td>-0.258068</td>\n",
       "      <td>0.480642</td>\n",
       "      <td>-0.080583</td>\n",
       "    </tr>\n",
       "    <tr>\n",
       "      <th>Si</th>\n",
       "      <td>-0.539000</td>\n",
       "      <td>-0.064885</td>\n",
       "      <td>-0.162437</td>\n",
       "      <td>-0.016195</td>\n",
       "      <td>1.000000</td>\n",
       "      <td>-0.197281</td>\n",
       "      <td>-0.207145</td>\n",
       "      <td>-0.104389</td>\n",
       "      <td>-0.097717</td>\n",
       "    </tr>\n",
       "    <tr>\n",
       "      <th>K</th>\n",
       "      <td>-0.287645</td>\n",
       "      <td>-0.264158</td>\n",
       "      <td>0.007617</td>\n",
       "      <td>0.323683</td>\n",
       "      <td>-0.197281</td>\n",
       "      <td>1.000000</td>\n",
       "      <td>-0.317032</td>\n",
       "      <td>-0.043653</td>\n",
       "      <td>-0.009372</td>\n",
       "    </tr>\n",
       "    <tr>\n",
       "      <th>Ca</th>\n",
       "      <td>0.811183</td>\n",
       "      <td>-0.278194</td>\n",
       "      <td>-0.446197</td>\n",
       "      <td>-0.258068</td>\n",
       "      <td>-0.207145</td>\n",
       "      <td>-0.317032</td>\n",
       "      <td>1.000000</td>\n",
       "      <td>-0.112208</td>\n",
       "      <td>0.126314</td>\n",
       "    </tr>\n",
       "    <tr>\n",
       "      <th>Ba</th>\n",
       "      <td>0.001679</td>\n",
       "      <td>0.329080</td>\n",
       "      <td>-0.491818</td>\n",
       "      <td>0.480642</td>\n",
       "      <td>-0.104389</td>\n",
       "      <td>-0.043653</td>\n",
       "      <td>-0.112208</td>\n",
       "      <td>1.000000</td>\n",
       "      <td>-0.059729</td>\n",
       "    </tr>\n",
       "    <tr>\n",
       "      <th>Fe</th>\n",
       "      <td>0.147083</td>\n",
       "      <td>-0.239374</td>\n",
       "      <td>0.085426</td>\n",
       "      <td>-0.080583</td>\n",
       "      <td>-0.097717</td>\n",
       "      <td>-0.009372</td>\n",
       "      <td>0.126314</td>\n",
       "      <td>-0.059729</td>\n",
       "      <td>1.000000</td>\n",
       "    </tr>\n",
       "  </tbody>\n",
       "</table>\n",
       "</div>"
      ],
      "text/plain": [
       "          RI        Na        Mg        Al        Si         K        Ca  \\\n",
       "RI  1.000000 -0.198802 -0.127526 -0.400973 -0.539000 -0.287645  0.811183   \n",
       "Na -0.198802  1.000000 -0.278420  0.167735 -0.064885 -0.264158 -0.278194   \n",
       "Mg -0.127526 -0.278420  1.000000 -0.479575 -0.162437  0.007617 -0.446197   \n",
       "Al -0.400973  0.167735 -0.479575  1.000000 -0.016195  0.323683 -0.258068   \n",
       "Si -0.539000 -0.064885 -0.162437 -0.016195  1.000000 -0.197281 -0.207145   \n",
       "K  -0.287645 -0.264158  0.007617  0.323683 -0.197281  1.000000 -0.317032   \n",
       "Ca  0.811183 -0.278194 -0.446197 -0.258068 -0.207145 -0.317032  1.000000   \n",
       "Ba  0.001679  0.329080 -0.491818  0.480642 -0.104389 -0.043653 -0.112208   \n",
       "Fe  0.147083 -0.239374  0.085426 -0.080583 -0.097717 -0.009372  0.126314   \n",
       "\n",
       "          Ba        Fe  \n",
       "RI  0.001679  0.147083  \n",
       "Na  0.329080 -0.239374  \n",
       "Mg -0.491818  0.085426  \n",
       "Al  0.480642 -0.080583  \n",
       "Si -0.104389 -0.097717  \n",
       "K  -0.043653 -0.009372  \n",
       "Ca -0.112208  0.126314  \n",
       "Ba  1.000000 -0.059729  \n",
       "Fe -0.059729  1.000000  "
      ]
     },
     "execution_count": 33,
     "metadata": {},
     "output_type": "execute_result"
    }
   ],
   "source": [
    "glass[X].corr()"
   ]
  },
  {
   "cell_type": "markdown",
   "metadata": {
    "papermill": {
     "duration": 0.099464,
     "end_time": "2021-04-06T12:43:08.871634",
     "exception": false,
     "start_time": "2021-04-06T12:43:08.772170",
     "status": "completed"
    },
    "tags": []
   },
   "source": [
    "# Separating feature data and Label data  and train-test split"
   ]
  },
  {
   "cell_type": "code",
   "execution_count": 34,
   "metadata": {
    "ExecuteTime": {
     "end_time": "2021-04-06T12:33:28.406050Z",
     "start_time": "2021-04-06T12:33:28.386228Z"
    },
    "execution": {
     "iopub.execute_input": "2021-04-06T12:43:09.076141Z",
     "iopub.status.busy": "2021-04-06T12:43:09.075437Z",
     "iopub.status.idle": "2021-04-06T12:43:09.085235Z",
     "shell.execute_reply": "2021-04-06T12:43:09.085806Z"
    },
    "papermill": {
     "duration": 0.113309,
     "end_time": "2021-04-06T12:43:09.085979",
     "exception": false,
     "start_time": "2021-04-06T12:43:08.972670",
     "status": "completed"
    },
    "tags": []
   },
   "outputs": [],
   "source": [
    "X = pd.DataFrame(glass.drop([\"Type\"], axis = 1),\n",
    "            columns=['RI','Na','Mg','Al','Si','K','Ca','Ba','Fe'])\n",
    "Y = glass.Type\n",
    "\n",
    "X_train, X_test, Y_train, Y_test = train_test_split(X, Y, test_size = .2, random_state = 30, stratify = Y)\n"
   ]
  },
  {
   "cell_type": "code",
   "execution_count": 35,
   "metadata": {
    "ExecuteTime": {
     "end_time": "2021-04-06T12:33:28.453445Z",
     "start_time": "2021-04-06T12:33:28.409674Z"
    },
    "execution": {
     "iopub.execute_input": "2021-04-06T12:43:09.289061Z",
     "iopub.status.busy": "2021-04-06T12:43:09.288308Z",
     "iopub.status.idle": "2021-04-06T12:43:09.312047Z",
     "shell.execute_reply": "2021-04-06T12:43:09.311506Z"
    },
    "papermill": {
     "duration": 0.127531,
     "end_time": "2021-04-06T12:43:09.312201",
     "exception": false,
     "start_time": "2021-04-06T12:43:09.184670",
     "status": "completed"
    },
    "tags": []
   },
   "outputs": [
    {
     "data": {
      "text/html": [
       "<div>\n",
       "<style scoped>\n",
       "    .dataframe tbody tr th:only-of-type {\n",
       "        vertical-align: middle;\n",
       "    }\n",
       "\n",
       "    .dataframe tbody tr th {\n",
       "        vertical-align: top;\n",
       "    }\n",
       "\n",
       "    .dataframe thead th {\n",
       "        text-align: right;\n",
       "    }\n",
       "</style>\n",
       "<table border=\"1\" class=\"dataframe\">\n",
       "  <thead>\n",
       "    <tr style=\"text-align: right;\">\n",
       "      <th></th>\n",
       "      <th>RI</th>\n",
       "      <th>Na</th>\n",
       "      <th>Mg</th>\n",
       "      <th>Al</th>\n",
       "      <th>Si</th>\n",
       "      <th>K</th>\n",
       "      <th>Ca</th>\n",
       "      <th>Ba</th>\n",
       "      <th>Fe</th>\n",
       "    </tr>\n",
       "  </thead>\n",
       "  <tbody>\n",
       "    <tr>\n",
       "      <th>145</th>\n",
       "      <td>1.51839</td>\n",
       "      <td>12.85</td>\n",
       "      <td>3.67</td>\n",
       "      <td>1.24</td>\n",
       "      <td>72.57</td>\n",
       "      <td>0.62</td>\n",
       "      <td>8.68</td>\n",
       "      <td>0.00</td>\n",
       "      <td>0.35</td>\n",
       "    </tr>\n",
       "    <tr>\n",
       "      <th>14</th>\n",
       "      <td>1.51763</td>\n",
       "      <td>12.61</td>\n",
       "      <td>3.59</td>\n",
       "      <td>1.31</td>\n",
       "      <td>73.29</td>\n",
       "      <td>0.58</td>\n",
       "      <td>8.50</td>\n",
       "      <td>0.00</td>\n",
       "      <td>0.00</td>\n",
       "    </tr>\n",
       "    <tr>\n",
       "      <th>178</th>\n",
       "      <td>1.51829</td>\n",
       "      <td>14.46</td>\n",
       "      <td>2.24</td>\n",
       "      <td>1.62</td>\n",
       "      <td>72.38</td>\n",
       "      <td>0.00</td>\n",
       "      <td>9.26</td>\n",
       "      <td>0.00</td>\n",
       "      <td>0.00</td>\n",
       "    </tr>\n",
       "    <tr>\n",
       "      <th>53</th>\n",
       "      <td>1.51837</td>\n",
       "      <td>13.14</td>\n",
       "      <td>2.84</td>\n",
       "      <td>1.28</td>\n",
       "      <td>72.85</td>\n",
       "      <td>0.55</td>\n",
       "      <td>9.07</td>\n",
       "      <td>0.00</td>\n",
       "      <td>0.00</td>\n",
       "    </tr>\n",
       "    <tr>\n",
       "      <th>49</th>\n",
       "      <td>1.51898</td>\n",
       "      <td>13.58</td>\n",
       "      <td>3.35</td>\n",
       "      <td>1.23</td>\n",
       "      <td>72.08</td>\n",
       "      <td>0.59</td>\n",
       "      <td>8.91</td>\n",
       "      <td>0.00</td>\n",
       "      <td>0.00</td>\n",
       "    </tr>\n",
       "    <tr>\n",
       "      <th>...</th>\n",
       "      <td>...</td>\n",
       "      <td>...</td>\n",
       "      <td>...</td>\n",
       "      <td>...</td>\n",
       "      <td>...</td>\n",
       "      <td>...</td>\n",
       "      <td>...</td>\n",
       "      <td>...</td>\n",
       "      <td>...</td>\n",
       "    </tr>\n",
       "    <tr>\n",
       "      <th>75</th>\n",
       "      <td>1.51590</td>\n",
       "      <td>13.02</td>\n",
       "      <td>3.58</td>\n",
       "      <td>1.51</td>\n",
       "      <td>73.12</td>\n",
       "      <td>0.69</td>\n",
       "      <td>7.96</td>\n",
       "      <td>0.00</td>\n",
       "      <td>0.00</td>\n",
       "    </tr>\n",
       "    <tr>\n",
       "      <th>197</th>\n",
       "      <td>1.51727</td>\n",
       "      <td>14.70</td>\n",
       "      <td>0.00</td>\n",
       "      <td>2.34</td>\n",
       "      <td>73.28</td>\n",
       "      <td>0.00</td>\n",
       "      <td>8.95</td>\n",
       "      <td>0.66</td>\n",
       "      <td>0.00</td>\n",
       "    </tr>\n",
       "    <tr>\n",
       "      <th>159</th>\n",
       "      <td>1.51796</td>\n",
       "      <td>13.50</td>\n",
       "      <td>3.36</td>\n",
       "      <td>1.63</td>\n",
       "      <td>71.94</td>\n",
       "      <td>0.57</td>\n",
       "      <td>8.81</td>\n",
       "      <td>0.00</td>\n",
       "      <td>0.09</td>\n",
       "    </tr>\n",
       "    <tr>\n",
       "      <th>32</th>\n",
       "      <td>1.51775</td>\n",
       "      <td>12.85</td>\n",
       "      <td>3.48</td>\n",
       "      <td>1.23</td>\n",
       "      <td>72.97</td>\n",
       "      <td>0.61</td>\n",
       "      <td>8.56</td>\n",
       "      <td>0.09</td>\n",
       "      <td>0.22</td>\n",
       "    </tr>\n",
       "    <tr>\n",
       "      <th>204</th>\n",
       "      <td>1.51617</td>\n",
       "      <td>14.95</td>\n",
       "      <td>0.00</td>\n",
       "      <td>2.27</td>\n",
       "      <td>73.30</td>\n",
       "      <td>0.00</td>\n",
       "      <td>8.71</td>\n",
       "      <td>0.67</td>\n",
       "      <td>0.00</td>\n",
       "    </tr>\n",
       "  </tbody>\n",
       "</table>\n",
       "<p>170 rows × 9 columns</p>\n",
       "</div>"
      ],
      "text/plain": [
       "          RI     Na    Mg    Al     Si     K    Ca    Ba    Fe\n",
       "145  1.51839  12.85  3.67  1.24  72.57  0.62  8.68  0.00  0.35\n",
       "14   1.51763  12.61  3.59  1.31  73.29  0.58  8.50  0.00  0.00\n",
       "178  1.51829  14.46  2.24  1.62  72.38  0.00  9.26  0.00  0.00\n",
       "53   1.51837  13.14  2.84  1.28  72.85  0.55  9.07  0.00  0.00\n",
       "49   1.51898  13.58  3.35  1.23  72.08  0.59  8.91  0.00  0.00\n",
       "..       ...    ...   ...   ...    ...   ...   ...   ...   ...\n",
       "75   1.51590  13.02  3.58  1.51  73.12  0.69  7.96  0.00  0.00\n",
       "197  1.51727  14.70  0.00  2.34  73.28  0.00  8.95  0.66  0.00\n",
       "159  1.51796  13.50  3.36  1.63  71.94  0.57  8.81  0.00  0.09\n",
       "32   1.51775  12.85  3.48  1.23  72.97  0.61  8.56  0.09  0.22\n",
       "204  1.51617  14.95  0.00  2.27  73.30  0.00  8.71  0.67  0.00\n",
       "\n",
       "[170 rows x 9 columns]"
      ]
     },
     "execution_count": 35,
     "metadata": {},
     "output_type": "execute_result"
    }
   ],
   "source": [
    "X_train"
   ]
  },
  {
   "cell_type": "code",
   "execution_count": 36,
   "metadata": {
    "ExecuteTime": {
     "end_time": "2021-04-06T12:33:28.480542Z",
     "start_time": "2021-04-06T12:33:28.457437Z"
    },
    "execution": {
     "iopub.execute_input": "2021-04-06T12:43:09.518971Z",
     "iopub.status.busy": "2021-04-06T12:43:09.518204Z",
     "iopub.status.idle": "2021-04-06T12:43:09.522434Z",
     "shell.execute_reply": "2021-04-06T12:43:09.521793Z"
    },
    "papermill": {
     "duration": 0.110876,
     "end_time": "2021-04-06T12:43:09.522580",
     "exception": false,
     "start_time": "2021-04-06T12:43:09.411704",
     "status": "completed"
    },
    "tags": []
   },
   "outputs": [
    {
     "data": {
      "text/plain": [
       "145    2\n",
       "14     1\n",
       "178    6\n",
       "53     1\n",
       "49     1\n",
       "      ..\n",
       "75     2\n",
       "197    7\n",
       "159    3\n",
       "32     1\n",
       "204    7\n",
       "Name: Type, Length: 170, dtype: int64"
      ]
     },
     "execution_count": 36,
     "metadata": {},
     "output_type": "execute_result"
    }
   ],
   "source": [
    "Y_train"
   ]
  },
  {
   "cell_type": "code",
   "execution_count": 37,
   "metadata": {
    "ExecuteTime": {
     "end_time": "2021-04-06T12:33:28.556791Z",
     "start_time": "2021-04-06T12:33:28.483960Z"
    },
    "execution": {
     "iopub.execute_input": "2021-04-06T12:43:09.771462Z",
     "iopub.status.busy": "2021-04-06T12:43:09.766923Z",
     "iopub.status.idle": "2021-04-06T12:43:09.775459Z",
     "shell.execute_reply": "2021-04-06T12:43:09.775929Z"
    },
    "papermill": {
     "duration": 0.15325,
     "end_time": "2021-04-06T12:43:09.776121",
     "exception": false,
     "start_time": "2021-04-06T12:43:09.622871",
     "status": "completed"
    },
    "tags": []
   },
   "outputs": [
    {
     "data": {
      "text/html": [
       "<div>\n",
       "<style scoped>\n",
       "    .dataframe tbody tr th:only-of-type {\n",
       "        vertical-align: middle;\n",
       "    }\n",
       "\n",
       "    .dataframe tbody tr th {\n",
       "        vertical-align: top;\n",
       "    }\n",
       "\n",
       "    .dataframe thead th {\n",
       "        text-align: right;\n",
       "    }\n",
       "</style>\n",
       "<table border=\"1\" class=\"dataframe\">\n",
       "  <thead>\n",
       "    <tr style=\"text-align: right;\">\n",
       "      <th></th>\n",
       "      <th>RI</th>\n",
       "      <th>Na</th>\n",
       "      <th>Mg</th>\n",
       "      <th>Al</th>\n",
       "      <th>Si</th>\n",
       "      <th>K</th>\n",
       "      <th>Ca</th>\n",
       "      <th>Ba</th>\n",
       "      <th>Fe</th>\n",
       "    </tr>\n",
       "  </thead>\n",
       "  <tbody>\n",
       "    <tr>\n",
       "      <th>179</th>\n",
       "      <td>1.51852</td>\n",
       "      <td>14.09</td>\n",
       "      <td>2.19</td>\n",
       "      <td>1.66</td>\n",
       "      <td>72.67</td>\n",
       "      <td>0.00</td>\n",
       "      <td>9.32</td>\n",
       "      <td>0.00</td>\n",
       "      <td>0.00</td>\n",
       "    </tr>\n",
       "    <tr>\n",
       "      <th>42</th>\n",
       "      <td>1.51779</td>\n",
       "      <td>13.21</td>\n",
       "      <td>3.39</td>\n",
       "      <td>1.33</td>\n",
       "      <td>72.76</td>\n",
       "      <td>0.59</td>\n",
       "      <td>8.59</td>\n",
       "      <td>0.00</td>\n",
       "      <td>0.00</td>\n",
       "    </tr>\n",
       "    <tr>\n",
       "      <th>89</th>\n",
       "      <td>1.51640</td>\n",
       "      <td>12.55</td>\n",
       "      <td>3.48</td>\n",
       "      <td>1.87</td>\n",
       "      <td>73.23</td>\n",
       "      <td>0.63</td>\n",
       "      <td>8.08</td>\n",
       "      <td>0.00</td>\n",
       "      <td>0.09</td>\n",
       "    </tr>\n",
       "    <tr>\n",
       "      <th>37</th>\n",
       "      <td>1.51797</td>\n",
       "      <td>12.74</td>\n",
       "      <td>3.48</td>\n",
       "      <td>1.35</td>\n",
       "      <td>72.96</td>\n",
       "      <td>0.64</td>\n",
       "      <td>8.68</td>\n",
       "      <td>0.00</td>\n",
       "      <td>0.00</td>\n",
       "    </tr>\n",
       "    <tr>\n",
       "      <th>81</th>\n",
       "      <td>1.51593</td>\n",
       "      <td>13.25</td>\n",
       "      <td>3.45</td>\n",
       "      <td>1.43</td>\n",
       "      <td>73.17</td>\n",
       "      <td>0.61</td>\n",
       "      <td>7.86</td>\n",
       "      <td>0.00</td>\n",
       "      <td>0.00</td>\n",
       "    </tr>\n",
       "    <tr>\n",
       "      <th>193</th>\n",
       "      <td>1.51719</td>\n",
       "      <td>14.75</td>\n",
       "      <td>0.00</td>\n",
       "      <td>2.00</td>\n",
       "      <td>73.02</td>\n",
       "      <td>0.00</td>\n",
       "      <td>8.53</td>\n",
       "      <td>1.59</td>\n",
       "      <td>0.08</td>\n",
       "    </tr>\n",
       "    <tr>\n",
       "      <th>60</th>\n",
       "      <td>1.51905</td>\n",
       "      <td>13.60</td>\n",
       "      <td>3.62</td>\n",
       "      <td>1.11</td>\n",
       "      <td>72.64</td>\n",
       "      <td>0.14</td>\n",
       "      <td>8.76</td>\n",
       "      <td>0.00</td>\n",
       "      <td>0.00</td>\n",
       "    </tr>\n",
       "    <tr>\n",
       "      <th>128</th>\n",
       "      <td>1.52068</td>\n",
       "      <td>13.55</td>\n",
       "      <td>2.09</td>\n",
       "      <td>1.67</td>\n",
       "      <td>72.18</td>\n",
       "      <td>0.53</td>\n",
       "      <td>9.57</td>\n",
       "      <td>0.27</td>\n",
       "      <td>0.17</td>\n",
       "    </tr>\n",
       "    <tr>\n",
       "      <th>188</th>\n",
       "      <td>1.52247</td>\n",
       "      <td>14.86</td>\n",
       "      <td>2.20</td>\n",
       "      <td>2.06</td>\n",
       "      <td>70.26</td>\n",
       "      <td>0.76</td>\n",
       "      <td>9.76</td>\n",
       "      <td>0.00</td>\n",
       "      <td>0.00</td>\n",
       "    </tr>\n",
       "    <tr>\n",
       "      <th>155</th>\n",
       "      <td>1.51646</td>\n",
       "      <td>13.04</td>\n",
       "      <td>3.40</td>\n",
       "      <td>1.26</td>\n",
       "      <td>73.01</td>\n",
       "      <td>0.52</td>\n",
       "      <td>8.58</td>\n",
       "      <td>0.00</td>\n",
       "      <td>0.00</td>\n",
       "    </tr>\n",
       "    <tr>\n",
       "      <th>7</th>\n",
       "      <td>1.51756</td>\n",
       "      <td>13.15</td>\n",
       "      <td>3.61</td>\n",
       "      <td>1.05</td>\n",
       "      <td>73.24</td>\n",
       "      <td>0.57</td>\n",
       "      <td>8.24</td>\n",
       "      <td>0.00</td>\n",
       "      <td>0.00</td>\n",
       "    </tr>\n",
       "    <tr>\n",
       "      <th>189</th>\n",
       "      <td>1.52365</td>\n",
       "      <td>15.79</td>\n",
       "      <td>1.83</td>\n",
       "      <td>1.31</td>\n",
       "      <td>70.43</td>\n",
       "      <td>0.31</td>\n",
       "      <td>8.61</td>\n",
       "      <td>1.68</td>\n",
       "      <td>0.00</td>\n",
       "    </tr>\n",
       "    <tr>\n",
       "      <th>198</th>\n",
       "      <td>1.51531</td>\n",
       "      <td>14.38</td>\n",
       "      <td>0.00</td>\n",
       "      <td>2.66</td>\n",
       "      <td>73.10</td>\n",
       "      <td>0.04</td>\n",
       "      <td>9.08</td>\n",
       "      <td>0.64</td>\n",
       "      <td>0.00</td>\n",
       "    </tr>\n",
       "    <tr>\n",
       "      <th>153</th>\n",
       "      <td>1.51610</td>\n",
       "      <td>13.42</td>\n",
       "      <td>3.40</td>\n",
       "      <td>1.22</td>\n",
       "      <td>72.69</td>\n",
       "      <td>0.59</td>\n",
       "      <td>8.32</td>\n",
       "      <td>0.00</td>\n",
       "      <td>0.00</td>\n",
       "    </tr>\n",
       "    <tr>\n",
       "      <th>99</th>\n",
       "      <td>1.51811</td>\n",
       "      <td>12.96</td>\n",
       "      <td>2.96</td>\n",
       "      <td>1.43</td>\n",
       "      <td>72.92</td>\n",
       "      <td>0.60</td>\n",
       "      <td>8.79</td>\n",
       "      <td>0.14</td>\n",
       "      <td>0.00</td>\n",
       "    </tr>\n",
       "    <tr>\n",
       "      <th>47</th>\n",
       "      <td>1.52667</td>\n",
       "      <td>13.99</td>\n",
       "      <td>3.70</td>\n",
       "      <td>0.71</td>\n",
       "      <td>71.57</td>\n",
       "      <td>0.02</td>\n",
       "      <td>9.82</td>\n",
       "      <td>0.00</td>\n",
       "      <td>0.10</td>\n",
       "    </tr>\n",
       "    <tr>\n",
       "      <th>175</th>\n",
       "      <td>1.52119</td>\n",
       "      <td>12.97</td>\n",
       "      <td>0.33</td>\n",
       "      <td>1.51</td>\n",
       "      <td>73.39</td>\n",
       "      <td>0.13</td>\n",
       "      <td>11.27</td>\n",
       "      <td>0.00</td>\n",
       "      <td>0.28</td>\n",
       "    </tr>\n",
       "    <tr>\n",
       "      <th>12</th>\n",
       "      <td>1.51589</td>\n",
       "      <td>12.88</td>\n",
       "      <td>3.43</td>\n",
       "      <td>1.40</td>\n",
       "      <td>73.28</td>\n",
       "      <td>0.69</td>\n",
       "      <td>8.05</td>\n",
       "      <td>0.00</td>\n",
       "      <td>0.24</td>\n",
       "    </tr>\n",
       "    <tr>\n",
       "      <th>3</th>\n",
       "      <td>1.51766</td>\n",
       "      <td>13.21</td>\n",
       "      <td>3.69</td>\n",
       "      <td>1.29</td>\n",
       "      <td>72.61</td>\n",
       "      <td>0.57</td>\n",
       "      <td>8.22</td>\n",
       "      <td>0.00</td>\n",
       "      <td>0.00</td>\n",
       "    </tr>\n",
       "    <tr>\n",
       "      <th>87</th>\n",
       "      <td>1.51645</td>\n",
       "      <td>13.40</td>\n",
       "      <td>3.49</td>\n",
       "      <td>1.52</td>\n",
       "      <td>72.65</td>\n",
       "      <td>0.67</td>\n",
       "      <td>8.08</td>\n",
       "      <td>0.00</td>\n",
       "      <td>0.10</td>\n",
       "    </tr>\n",
       "    <tr>\n",
       "      <th>79</th>\n",
       "      <td>1.51590</td>\n",
       "      <td>12.82</td>\n",
       "      <td>3.52</td>\n",
       "      <td>1.90</td>\n",
       "      <td>72.86</td>\n",
       "      <td>0.69</td>\n",
       "      <td>7.97</td>\n",
       "      <td>0.00</td>\n",
       "      <td>0.00</td>\n",
       "    </tr>\n",
       "    <tr>\n",
       "      <th>2</th>\n",
       "      <td>1.51618</td>\n",
       "      <td>13.53</td>\n",
       "      <td>3.55</td>\n",
       "      <td>1.54</td>\n",
       "      <td>72.99</td>\n",
       "      <td>0.39</td>\n",
       "      <td>7.78</td>\n",
       "      <td>0.00</td>\n",
       "      <td>0.00</td>\n",
       "    </tr>\n",
       "    <tr>\n",
       "      <th>69</th>\n",
       "      <td>1.52300</td>\n",
       "      <td>13.31</td>\n",
       "      <td>3.58</td>\n",
       "      <td>0.82</td>\n",
       "      <td>71.99</td>\n",
       "      <td>0.12</td>\n",
       "      <td>10.17</td>\n",
       "      <td>0.00</td>\n",
       "      <td>0.03</td>\n",
       "    </tr>\n",
       "    <tr>\n",
       "      <th>184</th>\n",
       "      <td>1.51115</td>\n",
       "      <td>17.38</td>\n",
       "      <td>0.00</td>\n",
       "      <td>0.34</td>\n",
       "      <td>75.41</td>\n",
       "      <td>0.00</td>\n",
       "      <td>6.65</td>\n",
       "      <td>0.00</td>\n",
       "      <td>0.00</td>\n",
       "    </tr>\n",
       "    <tr>\n",
       "      <th>98</th>\n",
       "      <td>1.51689</td>\n",
       "      <td>12.67</td>\n",
       "      <td>2.88</td>\n",
       "      <td>1.71</td>\n",
       "      <td>73.21</td>\n",
       "      <td>0.73</td>\n",
       "      <td>8.54</td>\n",
       "      <td>0.00</td>\n",
       "      <td>0.00</td>\n",
       "    </tr>\n",
       "    <tr>\n",
       "      <th>101</th>\n",
       "      <td>1.51730</td>\n",
       "      <td>12.35</td>\n",
       "      <td>2.72</td>\n",
       "      <td>1.63</td>\n",
       "      <td>72.87</td>\n",
       "      <td>0.70</td>\n",
       "      <td>9.23</td>\n",
       "      <td>0.00</td>\n",
       "      <td>0.00</td>\n",
       "    </tr>\n",
       "    <tr>\n",
       "      <th>93</th>\n",
       "      <td>1.51590</td>\n",
       "      <td>13.24</td>\n",
       "      <td>3.34</td>\n",
       "      <td>1.47</td>\n",
       "      <td>73.10</td>\n",
       "      <td>0.39</td>\n",
       "      <td>8.22</td>\n",
       "      <td>0.00</td>\n",
       "      <td>0.00</td>\n",
       "    </tr>\n",
       "    <tr>\n",
       "      <th>80</th>\n",
       "      <td>1.51592</td>\n",
       "      <td>12.86</td>\n",
       "      <td>3.52</td>\n",
       "      <td>2.12</td>\n",
       "      <td>72.66</td>\n",
       "      <td>0.69</td>\n",
       "      <td>7.97</td>\n",
       "      <td>0.00</td>\n",
       "      <td>0.00</td>\n",
       "    </tr>\n",
       "    <tr>\n",
       "      <th>115</th>\n",
       "      <td>1.51846</td>\n",
       "      <td>13.41</td>\n",
       "      <td>3.89</td>\n",
       "      <td>1.33</td>\n",
       "      <td>72.38</td>\n",
       "      <td>0.51</td>\n",
       "      <td>8.28</td>\n",
       "      <td>0.00</td>\n",
       "      <td>0.00</td>\n",
       "    </tr>\n",
       "    <tr>\n",
       "      <th>140</th>\n",
       "      <td>1.51690</td>\n",
       "      <td>13.33</td>\n",
       "      <td>3.54</td>\n",
       "      <td>1.61</td>\n",
       "      <td>72.54</td>\n",
       "      <td>0.68</td>\n",
       "      <td>8.11</td>\n",
       "      <td>0.00</td>\n",
       "      <td>0.00</td>\n",
       "    </tr>\n",
       "    <tr>\n",
       "      <th>148</th>\n",
       "      <td>1.51670</td>\n",
       "      <td>13.24</td>\n",
       "      <td>3.57</td>\n",
       "      <td>1.38</td>\n",
       "      <td>72.70</td>\n",
       "      <td>0.56</td>\n",
       "      <td>8.44</td>\n",
       "      <td>0.00</td>\n",
       "      <td>0.10</td>\n",
       "    </tr>\n",
       "    <tr>\n",
       "      <th>125</th>\n",
       "      <td>1.51872</td>\n",
       "      <td>12.93</td>\n",
       "      <td>3.66</td>\n",
       "      <td>1.56</td>\n",
       "      <td>72.51</td>\n",
       "      <td>0.58</td>\n",
       "      <td>8.55</td>\n",
       "      <td>0.00</td>\n",
       "      <td>0.12</td>\n",
       "    </tr>\n",
       "    <tr>\n",
       "      <th>169</th>\n",
       "      <td>1.51994</td>\n",
       "      <td>13.27</td>\n",
       "      <td>0.00</td>\n",
       "      <td>1.76</td>\n",
       "      <td>73.03</td>\n",
       "      <td>0.47</td>\n",
       "      <td>11.32</td>\n",
       "      <td>0.00</td>\n",
       "      <td>0.00</td>\n",
       "    </tr>\n",
       "    <tr>\n",
       "      <th>168</th>\n",
       "      <td>1.51666</td>\n",
       "      <td>12.86</td>\n",
       "      <td>0.00</td>\n",
       "      <td>1.83</td>\n",
       "      <td>73.88</td>\n",
       "      <td>0.97</td>\n",
       "      <td>10.17</td>\n",
       "      <td>0.00</td>\n",
       "      <td>0.00</td>\n",
       "    </tr>\n",
       "    <tr>\n",
       "      <th>46</th>\n",
       "      <td>1.51869</td>\n",
       "      <td>13.19</td>\n",
       "      <td>3.37</td>\n",
       "      <td>1.18</td>\n",
       "      <td>72.72</td>\n",
       "      <td>0.57</td>\n",
       "      <td>8.83</td>\n",
       "      <td>0.00</td>\n",
       "      <td>0.16</td>\n",
       "    </tr>\n",
       "    <tr>\n",
       "      <th>23</th>\n",
       "      <td>1.51751</td>\n",
       "      <td>12.81</td>\n",
       "      <td>3.57</td>\n",
       "      <td>1.35</td>\n",
       "      <td>73.02</td>\n",
       "      <td>0.62</td>\n",
       "      <td>8.59</td>\n",
       "      <td>0.00</td>\n",
       "      <td>0.00</td>\n",
       "    </tr>\n",
       "    <tr>\n",
       "      <th>54</th>\n",
       "      <td>1.51778</td>\n",
       "      <td>13.21</td>\n",
       "      <td>2.81</td>\n",
       "      <td>1.29</td>\n",
       "      <td>72.98</td>\n",
       "      <td>0.51</td>\n",
       "      <td>9.02</td>\n",
       "      <td>0.00</td>\n",
       "      <td>0.09</td>\n",
       "    </tr>\n",
       "    <tr>\n",
       "      <th>17</th>\n",
       "      <td>1.52196</td>\n",
       "      <td>14.36</td>\n",
       "      <td>3.85</td>\n",
       "      <td>0.89</td>\n",
       "      <td>71.36</td>\n",
       "      <td>0.15</td>\n",
       "      <td>9.15</td>\n",
       "      <td>0.00</td>\n",
       "      <td>0.00</td>\n",
       "    </tr>\n",
       "    <tr>\n",
       "      <th>114</th>\n",
       "      <td>1.51847</td>\n",
       "      <td>13.10</td>\n",
       "      <td>3.97</td>\n",
       "      <td>1.19</td>\n",
       "      <td>72.44</td>\n",
       "      <td>0.60</td>\n",
       "      <td>8.43</td>\n",
       "      <td>0.00</td>\n",
       "      <td>0.00</td>\n",
       "    </tr>\n",
       "    <tr>\n",
       "      <th>67</th>\n",
       "      <td>1.52152</td>\n",
       "      <td>13.05</td>\n",
       "      <td>3.65</td>\n",
       "      <td>0.87</td>\n",
       "      <td>72.32</td>\n",
       "      <td>0.19</td>\n",
       "      <td>9.85</td>\n",
       "      <td>0.00</td>\n",
       "      <td>0.17</td>\n",
       "    </tr>\n",
       "    <tr>\n",
       "      <th>118</th>\n",
       "      <td>1.51673</td>\n",
       "      <td>13.30</td>\n",
       "      <td>3.64</td>\n",
       "      <td>1.53</td>\n",
       "      <td>72.53</td>\n",
       "      <td>0.65</td>\n",
       "      <td>8.03</td>\n",
       "      <td>0.00</td>\n",
       "      <td>0.29</td>\n",
       "    </tr>\n",
       "    <tr>\n",
       "      <th>210</th>\n",
       "      <td>1.51685</td>\n",
       "      <td>14.92</td>\n",
       "      <td>0.00</td>\n",
       "      <td>1.99</td>\n",
       "      <td>73.06</td>\n",
       "      <td>0.00</td>\n",
       "      <td>8.40</td>\n",
       "      <td>1.59</td>\n",
       "      <td>0.00</td>\n",
       "    </tr>\n",
       "    <tr>\n",
       "      <th>192</th>\n",
       "      <td>1.51623</td>\n",
       "      <td>14.20</td>\n",
       "      <td>0.00</td>\n",
       "      <td>2.79</td>\n",
       "      <td>73.46</td>\n",
       "      <td>0.04</td>\n",
       "      <td>9.04</td>\n",
       "      <td>0.40</td>\n",
       "      <td>0.09</td>\n",
       "    </tr>\n",
       "  </tbody>\n",
       "</table>\n",
       "</div>"
      ],
      "text/plain": [
       "          RI     Na    Mg    Al     Si     K     Ca    Ba    Fe\n",
       "179  1.51852  14.09  2.19  1.66  72.67  0.00   9.32  0.00  0.00\n",
       "42   1.51779  13.21  3.39  1.33  72.76  0.59   8.59  0.00  0.00\n",
       "89   1.51640  12.55  3.48  1.87  73.23  0.63   8.08  0.00  0.09\n",
       "37   1.51797  12.74  3.48  1.35  72.96  0.64   8.68  0.00  0.00\n",
       "81   1.51593  13.25  3.45  1.43  73.17  0.61   7.86  0.00  0.00\n",
       "193  1.51719  14.75  0.00  2.00  73.02  0.00   8.53  1.59  0.08\n",
       "60   1.51905  13.60  3.62  1.11  72.64  0.14   8.76  0.00  0.00\n",
       "128  1.52068  13.55  2.09  1.67  72.18  0.53   9.57  0.27  0.17\n",
       "188  1.52247  14.86  2.20  2.06  70.26  0.76   9.76  0.00  0.00\n",
       "155  1.51646  13.04  3.40  1.26  73.01  0.52   8.58  0.00  0.00\n",
       "7    1.51756  13.15  3.61  1.05  73.24  0.57   8.24  0.00  0.00\n",
       "189  1.52365  15.79  1.83  1.31  70.43  0.31   8.61  1.68  0.00\n",
       "198  1.51531  14.38  0.00  2.66  73.10  0.04   9.08  0.64  0.00\n",
       "153  1.51610  13.42  3.40  1.22  72.69  0.59   8.32  0.00  0.00\n",
       "99   1.51811  12.96  2.96  1.43  72.92  0.60   8.79  0.14  0.00\n",
       "47   1.52667  13.99  3.70  0.71  71.57  0.02   9.82  0.00  0.10\n",
       "175  1.52119  12.97  0.33  1.51  73.39  0.13  11.27  0.00  0.28\n",
       "12   1.51589  12.88  3.43  1.40  73.28  0.69   8.05  0.00  0.24\n",
       "3    1.51766  13.21  3.69  1.29  72.61  0.57   8.22  0.00  0.00\n",
       "87   1.51645  13.40  3.49  1.52  72.65  0.67   8.08  0.00  0.10\n",
       "79   1.51590  12.82  3.52  1.90  72.86  0.69   7.97  0.00  0.00\n",
       "2    1.51618  13.53  3.55  1.54  72.99  0.39   7.78  0.00  0.00\n",
       "69   1.52300  13.31  3.58  0.82  71.99  0.12  10.17  0.00  0.03\n",
       "184  1.51115  17.38  0.00  0.34  75.41  0.00   6.65  0.00  0.00\n",
       "98   1.51689  12.67  2.88  1.71  73.21  0.73   8.54  0.00  0.00\n",
       "101  1.51730  12.35  2.72  1.63  72.87  0.70   9.23  0.00  0.00\n",
       "93   1.51590  13.24  3.34  1.47  73.10  0.39   8.22  0.00  0.00\n",
       "80   1.51592  12.86  3.52  2.12  72.66  0.69   7.97  0.00  0.00\n",
       "115  1.51846  13.41  3.89  1.33  72.38  0.51   8.28  0.00  0.00\n",
       "140  1.51690  13.33  3.54  1.61  72.54  0.68   8.11  0.00  0.00\n",
       "148  1.51670  13.24  3.57  1.38  72.70  0.56   8.44  0.00  0.10\n",
       "125  1.51872  12.93  3.66  1.56  72.51  0.58   8.55  0.00  0.12\n",
       "169  1.51994  13.27  0.00  1.76  73.03  0.47  11.32  0.00  0.00\n",
       "168  1.51666  12.86  0.00  1.83  73.88  0.97  10.17  0.00  0.00\n",
       "46   1.51869  13.19  3.37  1.18  72.72  0.57   8.83  0.00  0.16\n",
       "23   1.51751  12.81  3.57  1.35  73.02  0.62   8.59  0.00  0.00\n",
       "54   1.51778  13.21  2.81  1.29  72.98  0.51   9.02  0.00  0.09\n",
       "17   1.52196  14.36  3.85  0.89  71.36  0.15   9.15  0.00  0.00\n",
       "114  1.51847  13.10  3.97  1.19  72.44  0.60   8.43  0.00  0.00\n",
       "67   1.52152  13.05  3.65  0.87  72.32  0.19   9.85  0.00  0.17\n",
       "118  1.51673  13.30  3.64  1.53  72.53  0.65   8.03  0.00  0.29\n",
       "210  1.51685  14.92  0.00  1.99  73.06  0.00   8.40  1.59  0.00\n",
       "192  1.51623  14.20  0.00  2.79  73.46  0.04   9.04  0.40  0.09"
      ]
     },
     "execution_count": 37,
     "metadata": {},
     "output_type": "execute_result"
    }
   ],
   "source": [
    "X_test"
   ]
  },
  {
   "cell_type": "code",
   "execution_count": 38,
   "metadata": {
    "ExecuteTime": {
     "end_time": "2021-04-06T12:33:28.572199Z",
     "start_time": "2021-04-06T12:33:28.561068Z"
    },
    "execution": {
     "iopub.execute_input": "2021-04-06T12:43:09.986681Z",
     "iopub.status.busy": "2021-04-06T12:43:09.985984Z",
     "iopub.status.idle": "2021-04-06T12:43:09.992799Z",
     "shell.execute_reply": "2021-04-06T12:43:09.992305Z"
    },
    "papermill": {
     "duration": 0.113026,
     "end_time": "2021-04-06T12:43:09.992945",
     "exception": false,
     "start_time": "2021-04-06T12:43:09.879919",
     "status": "completed"
    },
    "tags": []
   },
   "outputs": [
    {
     "data": {
      "text/plain": [
       "179    6\n",
       "42     1\n",
       "89     2\n",
       "37     1\n",
       "81     2\n",
       "193    7\n",
       "60     1\n",
       "128    2\n",
       "188    7\n",
       "155    3\n",
       "7      1\n",
       "189    7\n",
       "198    7\n",
       "153    3\n",
       "99     2\n",
       "47     1\n",
       "175    5\n",
       "12     1\n",
       "3      1\n",
       "87     2\n",
       "79     2\n",
       "2      1\n",
       "69     1\n",
       "184    6\n",
       "98     2\n",
       "101    2\n",
       "93     2\n",
       "80     2\n",
       "115    2\n",
       "140    2\n",
       "148    3\n",
       "125    2\n",
       "169    5\n",
       "168    5\n",
       "46     1\n",
       "23     1\n",
       "54     1\n",
       "17     1\n",
       "114    2\n",
       "67     1\n",
       "118    2\n",
       "210    7\n",
       "192    7\n",
       "Name: Type, dtype: int64"
      ]
     },
     "execution_count": 38,
     "metadata": {},
     "output_type": "execute_result"
    }
   ],
   "source": [
    "Y_test"
   ]
  },
  {
   "cell_type": "markdown",
   "metadata": {
    "papermill": {
     "duration": 0.10233,
     "end_time": "2021-04-06T12:43:10.198429",
     "exception": false,
     "start_time": "2021-04-06T12:43:10.096099",
     "status": "completed"
    },
    "tags": []
   },
   "source": [
    "# Grid Search for Algorithm Tuning"
   ]
  },
  {
   "cell_type": "code",
   "execution_count": 39,
   "metadata": {
    "ExecuteTime": {
     "end_time": "2021-04-06T12:33:28.587927Z",
     "start_time": "2021-04-06T12:33:28.576174Z"
    },
    "execution": {
     "iopub.execute_input": "2021-04-06T12:43:10.409777Z",
     "iopub.status.busy": "2021-04-06T12:43:10.408780Z",
     "iopub.status.idle": "2021-04-06T12:43:10.412894Z",
     "shell.execute_reply": "2021-04-06T12:43:10.412384Z"
    },
    "papermill": {
     "duration": 0.111487,
     "end_time": "2021-04-06T12:43:10.413062",
     "exception": false,
     "start_time": "2021-04-06T12:43:10.301575",
     "status": "completed"
    },
    "tags": []
   },
   "outputs": [],
   "source": [
    "n_neighbors = np.array(range(1,40))\n",
    "param_grid = dict(n_neighbors=n_neighbors)"
   ]
  },
  {
   "cell_type": "code",
   "execution_count": 40,
   "metadata": {
    "ExecuteTime": {
     "end_time": "2021-04-06T12:33:28.604312Z",
     "start_time": "2021-04-06T12:33:28.591912Z"
    },
    "execution": {
     "iopub.execute_input": "2021-04-06T12:43:10.628128Z",
     "iopub.status.busy": "2021-04-06T12:43:10.627432Z",
     "iopub.status.idle": "2021-04-06T12:43:10.631341Z",
     "shell.execute_reply": "2021-04-06T12:43:10.631831Z"
    },
    "papermill": {
     "duration": 0.114164,
     "end_time": "2021-04-06T12:43:10.631997",
     "exception": false,
     "start_time": "2021-04-06T12:43:10.517833",
     "status": "completed"
    },
    "tags": []
   },
   "outputs": [
    {
     "data": {
      "text/plain": [
       "{'n_neighbors': array([ 1,  2,  3,  4,  5,  6,  7,  8,  9, 10, 11, 12, 13, 14, 15, 16, 17,\n",
       "        18, 19, 20, 21, 22, 23, 24, 25, 26, 27, 28, 29, 30, 31, 32, 33, 34,\n",
       "        35, 36, 37, 38, 39])}"
      ]
     },
     "execution_count": 40,
     "metadata": {},
     "output_type": "execute_result"
    }
   ],
   "source": [
    "param_grid"
   ]
  },
  {
   "cell_type": "code",
   "execution_count": 41,
   "metadata": {
    "ExecuteTime": {
     "end_time": "2021-04-06T12:33:31.603401Z",
     "start_time": "2021-04-06T12:33:28.607882Z"
    },
    "execution": {
     "iopub.execute_input": "2021-04-06T12:43:10.842647Z",
     "iopub.status.busy": "2021-04-06T12:43:10.841928Z",
     "iopub.status.idle": "2021-04-06T12:43:13.759105Z",
     "shell.execute_reply": "2021-04-06T12:43:13.759647Z"
    },
    "papermill": {
     "duration": 3.025155,
     "end_time": "2021-04-06T12:43:13.759820",
     "exception": false,
     "start_time": "2021-04-06T12:43:10.734665",
     "status": "completed"
    },
    "tags": []
   },
   "outputs": [
    {
     "name": "stderr",
     "output_type": "stream",
     "text": [
      "/opt/conda/lib/python3.7/site-packages/sklearn/model_selection/_split.py:668: UserWarning: The least populated class in y has only 7 members, which is less than n_splits=10.\n",
      "  % (min_groups, self.n_splits)), UserWarning)\n"
     ]
    },
    {
     "name": "stdout",
     "output_type": "stream",
     "text": [
      "{'n_neighbors': 1}\n"
     ]
    }
   ],
   "source": [
    "model = KNeighborsClassifier()\n",
    "grid = GridSearchCV(estimator=model, param_grid=param_grid,cv=10)\n",
    "grid.fit(X_train, Y_train)\n",
    "print(grid.best_params_)"
   ]
  },
  {
   "cell_type": "markdown",
   "metadata": {
    "papermill": {
     "duration": 0.108407,
     "end_time": "2021-04-06T12:43:13.973194",
     "exception": false,
     "start_time": "2021-04-06T12:43:13.864787",
     "status": "completed"
    },
    "tags": []
   },
   "source": [
    "##### After applying GridSearch, we got the best K (n_neighbors) value as 1, so we will be using the k= 1 for KNN Classifier algorithm"
   ]
  },
  {
   "cell_type": "markdown",
   "metadata": {
    "papermill": {
     "duration": 0.105977,
     "end_time": "2021-04-06T12:43:14.184691",
     "exception": false,
     "start_time": "2021-04-06T12:43:14.078714",
     "status": "completed"
    },
    "tags": []
   },
   "source": [
    "### Visualizing the CV results"
   ]
  },
  {
   "cell_type": "code",
   "execution_count": 42,
   "metadata": {
    "ExecuteTime": {
     "end_time": "2021-04-06T12:33:35.214957Z",
     "start_time": "2021-04-06T12:33:31.607958Z"
    },
    "execution": {
     "iopub.execute_input": "2021-04-06T12:43:14.407712Z",
     "iopub.status.busy": "2021-04-06T12:43:14.406966Z",
     "iopub.status.idle": "2021-04-06T12:43:17.409874Z",
     "shell.execute_reply": "2021-04-06T12:43:17.409256Z"
    },
    "papermill": {
     "duration": 3.118628,
     "end_time": "2021-04-06T12:43:17.410016",
     "exception": false,
     "start_time": "2021-04-06T12:43:14.291388",
     "status": "completed"
    },
    "tags": []
   },
   "outputs": [
    {
     "name": "stderr",
     "output_type": "stream",
     "text": [
      "/opt/conda/lib/python3.7/site-packages/sklearn/model_selection/_split.py:668: UserWarning: The least populated class in y has only 7 members, which is less than n_splits=10.\n",
      "  % (min_groups, self.n_splits)), UserWarning)\n",
      "/opt/conda/lib/python3.7/site-packages/sklearn/model_selection/_split.py:668: UserWarning: The least populated class in y has only 7 members, which is less than n_splits=10.\n",
      "  % (min_groups, self.n_splits)), UserWarning)\n",
      "/opt/conda/lib/python3.7/site-packages/sklearn/model_selection/_split.py:668: UserWarning: The least populated class in y has only 7 members, which is less than n_splits=10.\n",
      "  % (min_groups, self.n_splits)), UserWarning)\n",
      "/opt/conda/lib/python3.7/site-packages/sklearn/model_selection/_split.py:668: UserWarning: The least populated class in y has only 7 members, which is less than n_splits=10.\n",
      "  % (min_groups, self.n_splits)), UserWarning)\n",
      "/opt/conda/lib/python3.7/site-packages/sklearn/model_selection/_split.py:668: UserWarning: The least populated class in y has only 7 members, which is less than n_splits=10.\n",
      "  % (min_groups, self.n_splits)), UserWarning)\n",
      "/opt/conda/lib/python3.7/site-packages/sklearn/model_selection/_split.py:668: UserWarning: The least populated class in y has only 7 members, which is less than n_splits=10.\n",
      "  % (min_groups, self.n_splits)), UserWarning)\n",
      "/opt/conda/lib/python3.7/site-packages/sklearn/model_selection/_split.py:668: UserWarning: The least populated class in y has only 7 members, which is less than n_splits=10.\n",
      "  % (min_groups, self.n_splits)), UserWarning)\n",
      "/opt/conda/lib/python3.7/site-packages/sklearn/model_selection/_split.py:668: UserWarning: The least populated class in y has only 7 members, which is less than n_splits=10.\n",
      "  % (min_groups, self.n_splits)), UserWarning)\n",
      "/opt/conda/lib/python3.7/site-packages/sklearn/model_selection/_split.py:668: UserWarning: The least populated class in y has only 7 members, which is less than n_splits=10.\n",
      "  % (min_groups, self.n_splits)), UserWarning)\n",
      "/opt/conda/lib/python3.7/site-packages/sklearn/model_selection/_split.py:668: UserWarning: The least populated class in y has only 7 members, which is less than n_splits=10.\n",
      "  % (min_groups, self.n_splits)), UserWarning)\n",
      "/opt/conda/lib/python3.7/site-packages/sklearn/model_selection/_split.py:668: UserWarning: The least populated class in y has only 7 members, which is less than n_splits=10.\n",
      "  % (min_groups, self.n_splits)), UserWarning)\n",
      "/opt/conda/lib/python3.7/site-packages/sklearn/model_selection/_split.py:668: UserWarning: The least populated class in y has only 7 members, which is less than n_splits=10.\n",
      "  % (min_groups, self.n_splits)), UserWarning)\n",
      "/opt/conda/lib/python3.7/site-packages/sklearn/model_selection/_split.py:668: UserWarning: The least populated class in y has only 7 members, which is less than n_splits=10.\n",
      "  % (min_groups, self.n_splits)), UserWarning)\n",
      "/opt/conda/lib/python3.7/site-packages/sklearn/model_selection/_split.py:668: UserWarning: The least populated class in y has only 7 members, which is less than n_splits=10.\n",
      "  % (min_groups, self.n_splits)), UserWarning)\n",
      "/opt/conda/lib/python3.7/site-packages/sklearn/model_selection/_split.py:668: UserWarning: The least populated class in y has only 7 members, which is less than n_splits=10.\n",
      "  % (min_groups, self.n_splits)), UserWarning)\n",
      "/opt/conda/lib/python3.7/site-packages/sklearn/model_selection/_split.py:668: UserWarning: The least populated class in y has only 7 members, which is less than n_splits=10.\n",
      "  % (min_groups, self.n_splits)), UserWarning)\n",
      "/opt/conda/lib/python3.7/site-packages/sklearn/model_selection/_split.py:668: UserWarning: The least populated class in y has only 7 members, which is less than n_splits=10.\n",
      "  % (min_groups, self.n_splits)), UserWarning)\n",
      "/opt/conda/lib/python3.7/site-packages/sklearn/model_selection/_split.py:668: UserWarning: The least populated class in y has only 7 members, which is less than n_splits=10.\n",
      "  % (min_groups, self.n_splits)), UserWarning)\n",
      "/opt/conda/lib/python3.7/site-packages/sklearn/model_selection/_split.py:668: UserWarning: The least populated class in y has only 7 members, which is less than n_splits=10.\n",
      "  % (min_groups, self.n_splits)), UserWarning)\n",
      "/opt/conda/lib/python3.7/site-packages/sklearn/model_selection/_split.py:668: UserWarning: The least populated class in y has only 7 members, which is less than n_splits=10.\n",
      "  % (min_groups, self.n_splits)), UserWarning)\n",
      "/opt/conda/lib/python3.7/site-packages/sklearn/model_selection/_split.py:668: UserWarning: The least populated class in y has only 7 members, which is less than n_splits=10.\n",
      "  % (min_groups, self.n_splits)), UserWarning)\n",
      "/opt/conda/lib/python3.7/site-packages/sklearn/model_selection/_split.py:668: UserWarning: The least populated class in y has only 7 members, which is less than n_splits=10.\n",
      "  % (min_groups, self.n_splits)), UserWarning)\n",
      "/opt/conda/lib/python3.7/site-packages/sklearn/model_selection/_split.py:668: UserWarning: The least populated class in y has only 7 members, which is less than n_splits=10.\n",
      "  % (min_groups, self.n_splits)), UserWarning)\n",
      "/opt/conda/lib/python3.7/site-packages/sklearn/model_selection/_split.py:668: UserWarning: The least populated class in y has only 7 members, which is less than n_splits=10.\n",
      "  % (min_groups, self.n_splits)), UserWarning)\n",
      "/opt/conda/lib/python3.7/site-packages/sklearn/model_selection/_split.py:668: UserWarning: The least populated class in y has only 7 members, which is less than n_splits=10.\n",
      "  % (min_groups, self.n_splits)), UserWarning)\n",
      "/opt/conda/lib/python3.7/site-packages/sklearn/model_selection/_split.py:668: UserWarning: The least populated class in y has only 7 members, which is less than n_splits=10.\n",
      "  % (min_groups, self.n_splits)), UserWarning)\n",
      "/opt/conda/lib/python3.7/site-packages/sklearn/model_selection/_split.py:668: UserWarning: The least populated class in y has only 7 members, which is less than n_splits=10.\n",
      "  % (min_groups, self.n_splits)), UserWarning)\n",
      "/opt/conda/lib/python3.7/site-packages/sklearn/model_selection/_split.py:668: UserWarning: The least populated class in y has only 7 members, which is less than n_splits=10.\n",
      "  % (min_groups, self.n_splits)), UserWarning)\n",
      "/opt/conda/lib/python3.7/site-packages/sklearn/model_selection/_split.py:668: UserWarning: The least populated class in y has only 7 members, which is less than n_splits=10.\n",
      "  % (min_groups, self.n_splits)), UserWarning)\n",
      "/opt/conda/lib/python3.7/site-packages/sklearn/model_selection/_split.py:668: UserWarning: The least populated class in y has only 7 members, which is less than n_splits=10.\n",
      "  % (min_groups, self.n_splits)), UserWarning)\n",
      "/opt/conda/lib/python3.7/site-packages/sklearn/model_selection/_split.py:668: UserWarning: The least populated class in y has only 7 members, which is less than n_splits=10.\n",
      "  % (min_groups, self.n_splits)), UserWarning)\n",
      "/opt/conda/lib/python3.7/site-packages/sklearn/model_selection/_split.py:668: UserWarning: The least populated class in y has only 7 members, which is less than n_splits=10.\n",
      "  % (min_groups, self.n_splits)), UserWarning)\n",
      "/opt/conda/lib/python3.7/site-packages/sklearn/model_selection/_split.py:668: UserWarning: The least populated class in y has only 7 members, which is less than n_splits=10.\n",
      "  % (min_groups, self.n_splits)), UserWarning)\n",
      "/opt/conda/lib/python3.7/site-packages/sklearn/model_selection/_split.py:668: UserWarning: The least populated class in y has only 7 members, which is less than n_splits=10.\n",
      "  % (min_groups, self.n_splits)), UserWarning)\n",
      "/opt/conda/lib/python3.7/site-packages/sklearn/model_selection/_split.py:668: UserWarning: The least populated class in y has only 7 members, which is less than n_splits=10.\n",
      "  % (min_groups, self.n_splits)), UserWarning)\n",
      "/opt/conda/lib/python3.7/site-packages/sklearn/model_selection/_split.py:668: UserWarning: The least populated class in y has only 7 members, which is less than n_splits=10.\n",
      "  % (min_groups, self.n_splits)), UserWarning)\n",
      "/opt/conda/lib/python3.7/site-packages/sklearn/model_selection/_split.py:668: UserWarning: The least populated class in y has only 7 members, which is less than n_splits=10.\n",
      "  % (min_groups, self.n_splits)), UserWarning)\n",
      "/opt/conda/lib/python3.7/site-packages/sklearn/model_selection/_split.py:668: UserWarning: The least populated class in y has only 7 members, which is less than n_splits=10.\n",
      "  % (min_groups, self.n_splits)), UserWarning)\n",
      "/opt/conda/lib/python3.7/site-packages/sklearn/model_selection/_split.py:668: UserWarning: The least populated class in y has only 7 members, which is less than n_splits=10.\n",
      "  % (min_groups, self.n_splits)), UserWarning)\n",
      "/opt/conda/lib/python3.7/site-packages/sklearn/model_selection/_split.py:668: UserWarning: The least populated class in y has only 7 members, which is less than n_splits=10.\n",
      "  % (min_groups, self.n_splits)), UserWarning)\n"
     ]
    },
    {
     "data": {
      "image/png": "[encoded data removed]",
      "text/plain": [
       "<Figure size 432x288 with 1 Axes>"
      ]
     },
     "metadata": {
      "needs_background": "light"
     },
     "output_type": "display_data"
    }
   ],
   "source": [
    "import matplotlib.pyplot as plt \n",
    "%matplotlib inline\n",
    "# choose k between 1 to 41\n",
    "k_range = range(1, 41)\n",
    "k_scores = []\n",
    "# use iteration to caclulator different k in models, then return the average accuracy based on the cross validation\n",
    "for k in k_range:\n",
    "    knn = KNeighborsClassifier(n_neighbors=k)\n",
    "    scores = cross_val_score(knn, X_train, Y_train, cv=10)\n",
    "    k_scores.append(scores.mean())\n",
    "# plot to see clearly\n",
    "plt.plot(k_range, k_scores)\n",
    "plt.xlabel('Value of K for KNN')\n",
    "plt.ylabel('Cross-Validated Accuracy')\n",
    "plt.show()"
   ]
  },
  {
   "cell_type": "markdown",
   "metadata": {
    "papermill": {
     "duration": 0.109188,
     "end_time": "2021-04-06T12:43:17.629897",
     "exception": false,
     "start_time": "2021-04-06T12:43:17.520709",
     "status": "completed"
    },
    "tags": []
   },
   "source": [
    "##### We could see that the model accuracy is very good for k values smaller than 5 and as the value increases the accuracy goes on decreasing"
   ]
  },
  {
   "cell_type": "markdown",
   "metadata": {
    "papermill": {
     "duration": 0.109813,
     "end_time": "2021-04-06T12:43:17.849469",
     "exception": false,
     "start_time": "2021-04-06T12:43:17.739656",
     "status": "completed"
    },
    "tags": []
   },
   "source": [
    "# Using KNN Classifier for prediction"
   ]
  },
  {
   "cell_type": "code",
   "execution_count": 43,
   "metadata": {
    "ExecuteTime": {
     "end_time": "2021-04-06T12:33:35.253678Z",
     "start_time": "2021-04-06T12:33:35.218479Z"
    },
    "execution": {
     "iopub.execute_input": "2021-04-06T12:43:18.080420Z",
     "iopub.status.busy": "2021-04-06T12:43:18.076851Z",
     "iopub.status.idle": "2021-04-06T12:43:18.087699Z",
     "shell.execute_reply": "2021-04-06T12:43:18.086977Z"
    },
    "papermill": {
     "duration": 0.128168,
     "end_time": "2021-04-06T12:43:18.087843",
     "exception": false,
     "start_time": "2021-04-06T12:43:17.959675",
     "status": "completed"
    },
    "tags": []
   },
   "outputs": [
    {
     "name": "stdout",
     "output_type": "stream",
     "text": [
      "0.7441860465116279\n"
     ]
    }
   ],
   "source": [
    "model = KNeighborsClassifier(n_neighbors =1).fit(X_train,Y_train)\n",
    "y_pred = model.predict(X_test)\n",
    "accuracy = accuracy_score(Y_test,y_pred)\n",
    "print(accuracy)"
   ]
  },
  {
   "cell_type": "markdown",
   "metadata": {
    "papermill": {
     "duration": 0.109586,
     "end_time": "2021-04-06T12:43:18.306878",
     "exception": false,
     "start_time": "2021-04-06T12:43:18.197292",
     "status": "completed"
    },
    "tags": []
   },
   "source": [
    "##### We can see that the accuracy score which we have got for our model is 0.76 which is 76%. It is decent accuracy score. But the accuracy score can be misleading for imbalanced data. So we will use confusion matrix and classification report metrics further"
   ]
  },
  {
   "cell_type": "code",
   "execution_count": 44,
   "metadata": {
    "ExecuteTime": {
     "end_time": "2021-04-06T12:33:35.269386Z",
     "start_time": "2021-04-06T12:33:35.257666Z"
    },
    "execution": {
     "iopub.execute_input": "2021-04-06T12:43:18.536881Z",
     "iopub.status.busy": "2021-04-06T12:43:18.535935Z",
     "iopub.status.idle": "2021-04-06T12:43:18.539881Z",
     "shell.execute_reply": "2021-04-06T12:43:18.539254Z"
    },
    "papermill": {
     "duration": 0.121371,
     "end_time": "2021-04-06T12:43:18.540018",
     "exception": false,
     "start_time": "2021-04-06T12:43:18.418647",
     "status": "completed"
    },
    "tags": []
   },
   "outputs": [
    {
     "name": "stdout",
     "output_type": "stream",
     "text": [
      "[[ 9  1  4  0  0  0]\n",
      " [ 2 13  0  0  0  0]\n",
      " [ 2  0  1  0  0  0]\n",
      " [ 0  0  0  3  0  0]\n",
      " [ 0  0  0  0  2  0]\n",
      " [ 0  1  0  0  1  4]]\n"
     ]
    }
   ],
   "source": [
    "confusion_matrix = confusion_matrix(Y_test,y_pred)\n",
    "print (confusion_matrix)"
   ]
  },
  {
   "cell_type": "code",
   "execution_count": 45,
   "metadata": {
    "ExecuteTime": {
     "end_time": "2021-04-06T12:33:35.298355Z",
     "start_time": "2021-04-06T12:33:35.273360Z"
    },
    "execution": {
     "iopub.execute_input": "2021-04-06T12:43:18.769406Z",
     "iopub.status.busy": "2021-04-06T12:43:18.765385Z",
     "iopub.status.idle": "2021-04-06T12:43:18.774105Z",
     "shell.execute_reply": "2021-04-06T12:43:18.773314Z"
    },
    "papermill": {
     "duration": 0.124771,
     "end_time": "2021-04-06T12:43:18.774252",
     "exception": false,
     "start_time": "2021-04-06T12:43:18.649481",
     "status": "completed"
    },
    "tags": []
   },
   "outputs": [
    {
     "name": "stdout",
     "output_type": "stream",
     "text": [
      "              precision    recall  f1-score   support\n",
      "\n",
      "           1       0.69      0.64      0.67        14\n",
      "           2       0.87      0.87      0.87        15\n",
      "           3       0.20      0.33      0.25         3\n",
      "           5       1.00      1.00      1.00         3\n",
      "           6       0.67      1.00      0.80         2\n",
      "           7       1.00      0.67      0.80         6\n",
      "\n",
      "    accuracy                           0.74        43\n",
      "   macro avg       0.74      0.75      0.73        43\n",
      "weighted avg       0.78      0.74      0.76        43\n",
      "\n"
     ]
    }
   ],
   "source": [
    "print(classification_report(Y_test,y_pred))"
   ]
  },
  {
   "cell_type": "markdown",
   "metadata": {
    "papermill": {
     "duration": 0.115174,
     "end_time": "2021-04-06T12:43:19.001066",
     "exception": false,
     "start_time": "2021-04-06T12:43:18.885892",
     "status": "completed"
    },
    "tags": []
   },
   "source": [
    "##### The precison,recall and f1 score for type 3 is very low. For type 1, the precison is low but recall and f1-score is good. Since the data is imbalanced, we can see the precision,recall values are affected. We will use oversamping technique as the data is very less and undersampling will cause data loss"
   ]
  },
  {
   "cell_type": "markdown",
   "metadata": {
    "papermill": {
     "duration": 0.110307,
     "end_time": "2021-04-06T12:43:19.221970",
     "exception": false,
     "start_time": "2021-04-06T12:43:19.111663",
     "status": "completed"
    },
    "tags": []
   },
   "source": [
    "# Using Over Sampling for balancing the data"
   ]
  },
  {
   "cell_type": "markdown",
   "metadata": {
    "papermill": {
     "duration": 0.112028,
     "end_time": "2021-04-06T12:43:19.446593",
     "exception": false,
     "start_time": "2021-04-06T12:43:19.334565",
     "status": "completed"
    },
    "tags": []
   },
   "source": [
    "##### We will use SMOTE over sampling technique for oversampling the data"
   ]
  },
  {
   "cell_type": "code",
   "execution_count": 46,
   "metadata": {
    "ExecuteTime": {
     "end_time": "2021-04-06T12:33:35.320631Z",
     "start_time": "2021-04-06T12:33:35.301500Z"
    },
    "execution": {
     "iopub.execute_input": "2021-04-06T12:43:19.676334Z",
     "iopub.status.busy": "2021-04-06T12:43:19.675278Z",
     "iopub.status.idle": "2021-04-06T12:43:19.678675Z",
     "shell.execute_reply": "2021-04-06T12:43:19.678020Z"
    },
    "papermill": {
     "duration": 0.119392,
     "end_time": "2021-04-06T12:43:19.678837",
     "exception": false,
     "start_time": "2021-04-06T12:43:19.559445",
     "status": "completed"
    },
    "tags": []
   },
   "outputs": [],
   "source": [
    "sm = SMOTE(sampling_strategy = 'not majority', random_state = 42)"
   ]
  },
  {
   "cell_type": "code",
   "execution_count": 47,
   "metadata": {
    "ExecuteTime": {
     "end_time": "2021-04-06T12:33:35.364689Z",
     "start_time": "2021-04-06T12:33:35.324734Z"
    },
    "execution": {
     "iopub.execute_input": "2021-04-06T12:43:19.914088Z",
     "iopub.status.busy": "2021-04-06T12:43:19.911122Z",
     "iopub.status.idle": "2021-04-06T12:43:19.930855Z",
     "shell.execute_reply": "2021-04-06T12:43:19.931724Z"
    },
    "papermill": {
     "duration": 0.139907,
     "end_time": "2021-04-06T12:43:19.932023",
     "exception": false,
     "start_time": "2021-04-06T12:43:19.792116",
     "status": "completed"
    },
    "tags": []
   },
   "outputs": [],
   "source": [
    "x_resample, y_resample = sm.fit_resample(X, Y)\n",
    "y_df = pd.DataFrame(y_resample)"
   ]
  },
  {
   "cell_type": "code",
   "execution_count": 48,
   "metadata": {
    "ExecuteTime": {
     "end_time": "2021-04-06T12:33:35.397960Z",
     "start_time": "2021-04-06T12:33:35.367430Z"
    },
    "execution": {
     "iopub.execute_input": "2021-04-06T12:43:20.167315Z",
     "iopub.status.busy": "2021-04-06T12:43:20.166610Z",
     "iopub.status.idle": "2021-04-06T12:43:20.177235Z",
     "shell.execute_reply": "2021-04-06T12:43:20.177694Z"
    },
    "papermill": {
     "duration": 0.127452,
     "end_time": "2021-04-06T12:43:20.177873",
     "exception": false,
     "start_time": "2021-04-06T12:43:20.050421",
     "status": "completed"
    },
    "tags": []
   },
   "outputs": [
    {
     "data": {
      "text/plain": [
       "Type\n",
       "1       76\n",
       "2       76\n",
       "3       76\n",
       "5       76\n",
       "6       76\n",
       "7       76\n",
       "dtype: int64"
      ]
     },
     "execution_count": 48,
     "metadata": {},
     "output_type": "execute_result"
    }
   ],
   "source": [
    "y_df.value_counts()"
   ]
  },
  {
   "cell_type": "markdown",
   "metadata": {
    "papermill": {
     "duration": 0.111356,
     "end_time": "2021-04-06T12:43:20.400757",
     "exception": false,
     "start_time": "2021-04-06T12:43:20.289401",
     "status": "completed"
    },
    "tags": []
   },
   "source": [
    "##### We could see the data is resampled now and all the type values are 76  now. Previously  type 1 and type 2  were having values 69 and 76 respectively, and other counts were very low. We will split the resampled data into training and test data and build a KNN model \n",
    "\n",
    "##### We will apply Standardization to make the scale free and to make data  consistent"
   ]
  },
  {
   "cell_type": "code",
   "execution_count": 49,
   "metadata": {
    "ExecuteTime": {
     "end_time": "2021-04-06T12:33:35.433664Z",
     "start_time": "2021-04-06T12:33:35.401166Z"
    },
    "execution": {
     "iopub.execute_input": "2021-04-06T12:43:20.628160Z",
     "iopub.status.busy": "2021-04-06T12:43:20.627413Z",
     "iopub.status.idle": "2021-04-06T12:43:20.640423Z",
     "shell.execute_reply": "2021-04-06T12:43:20.640888Z"
    },
    "papermill": {
     "duration": 0.128816,
     "end_time": "2021-04-06T12:43:20.641102",
     "exception": false,
     "start_time": "2021-04-06T12:43:20.512286",
     "status": "completed"
    },
    "tags": []
   },
   "outputs": [],
   "source": [
    "X_train, X_test, Y_train, Y_test = train_test_split(x_resample, y_resample, test_size = .2, random_state = 40, stratify = y_resample)\n",
    "sc = StandardScaler()\n",
    "X_train = sc.fit_transform(X_train)\n",
    "X_test = sc.transform(X_test)\n"
   ]
  },
  {
   "cell_type": "markdown",
   "metadata": {
    "papermill": {
     "duration": 0.111634,
     "end_time": "2021-04-06T12:43:20.864606",
     "exception": false,
     "start_time": "2021-04-06T12:43:20.752972",
     "status": "completed"
    },
    "tags": []
   },
   "source": [
    "# Using GridSearch for Algorithm Tuning after resampling"
   ]
  },
  {
   "cell_type": "code",
   "execution_count": 50,
   "metadata": {
    "ExecuteTime": {
     "end_time": "2021-04-06T12:33:37.227842Z",
     "start_time": "2021-04-06T12:33:35.437179Z"
    },
    "execution": {
     "iopub.execute_input": "2021-04-06T12:43:21.093445Z",
     "iopub.status.busy": "2021-04-06T12:43:21.092702Z",
     "iopub.status.idle": "2021-04-06T12:43:22.861393Z",
     "shell.execute_reply": "2021-04-06T12:43:22.862238Z"
    },
    "papermill": {
     "duration": 1.884751,
     "end_time": "2021-04-06T12:43:22.862501",
     "exception": false,
     "start_time": "2021-04-06T12:43:20.977750",
     "status": "completed"
    },
    "tags": []
   },
   "outputs": [
    {
     "name": "stdout",
     "output_type": "stream",
     "text": [
      "{'n_neighbors': 1}\n"
     ]
    }
   ],
   "source": [
    "n_neighbors = np.array(range(1,40))\n",
    "param_grid = dict(n_neighbors=n_neighbors)\n",
    "\n",
    "model = KNeighborsClassifier()\n",
    "grid = GridSearchCV(estimator=model, param_grid=param_grid,cv=10)\n",
    "grid.fit(X_train, Y_train)\n",
    "print(grid.best_params_)"
   ]
  },
  {
   "cell_type": "markdown",
   "metadata": {
    "papermill": {
     "duration": 0.114493,
     "end_time": "2021-04-06T12:43:23.090508",
     "exception": false,
     "start_time": "2021-04-06T12:43:22.976015",
     "status": "completed"
    },
    "tags": []
   },
   "source": [
    "##### After applying GridSearch, we got the best K (n_neighbors) value as 1, so we will be using the k= 1 for KNN Classifier algorithm"
   ]
  },
  {
   "cell_type": "markdown",
   "metadata": {
    "papermill": {
     "duration": 0.111928,
     "end_time": "2021-04-06T12:43:23.314633",
     "exception": false,
     "start_time": "2021-04-06T12:43:23.202705",
     "status": "completed"
    },
    "tags": []
   },
   "source": [
    "### Visualizing the accuracy with different k values on sampled data"
   ]
  },
  {
   "cell_type": "code",
   "execution_count": 51,
   "metadata": {
    "ExecuteTime": {
     "end_time": "2021-04-06T12:33:39.598332Z",
     "start_time": "2021-04-06T12:33:37.230507Z"
    },
    "execution": {
     "iopub.execute_input": "2021-04-06T12:43:23.550677Z",
     "iopub.status.busy": "2021-04-06T12:43:23.549891Z",
     "iopub.status.idle": "2021-04-06T12:43:25.553528Z",
     "shell.execute_reply": "2021-04-06T12:43:25.554057Z"
    },
    "papermill": {
     "duration": 2.127485,
     "end_time": "2021-04-06T12:43:25.554262",
     "exception": false,
     "start_time": "2021-04-06T12:43:23.426777",
     "status": "completed"
    },
    "tags": []
   },
   "outputs": [
    {
     "data": {
      "image/png": "[encoded data removed]",
      "text/plain": [
       "<Figure size 432x288 with 1 Axes>"
      ]
     },
     "metadata": {
      "needs_background": "light"
     },
     "output_type": "display_data"
    }
   ],
   "source": [
    "import matplotlib.pyplot as plt \n",
    "%matplotlib inline\n",
    "# choose k between 1 to 41\n",
    "k_range = range(1, 41)\n",
    "k_scores = []\n",
    "# use iteration to caclulator different k in models, then return the average accuracy based on the cross validation\n",
    "for k in k_range:\n",
    "    knn = KNeighborsClassifier(n_neighbors=k)\n",
    "    scores = cross_val_score(knn, X_train, Y_train, cv=10)\n",
    "    k_scores.append(scores.mean())\n",
    "# plot to see clearly\n",
    "plt.plot(k_range, k_scores)\n",
    "plt.xlabel('Value of K for KNN')\n",
    "plt.ylabel('Cross-Validated Accuracy')\n",
    "plt.show()"
   ]
  },
  {
   "cell_type": "markdown",
   "metadata": {
    "papermill": {
     "duration": 0.116752,
     "end_time": "2021-04-06T12:43:25.786055",
     "exception": false,
     "start_time": "2021-04-06T12:43:25.669303",
     "status": "completed"
    },
    "tags": []
   },
   "source": [
    "##### The accuracy value is high for low values of k (less than 5) and it descreases as we increase values of k"
   ]
  },
  {
   "cell_type": "markdown",
   "metadata": {
    "papermill": {
     "duration": 0.112861,
     "end_time": "2021-04-06T12:43:26.011727",
     "exception": false,
     "start_time": "2021-04-06T12:43:25.898866",
     "status": "completed"
    },
    "tags": []
   },
   "source": [
    "# Using KNN with k=1 for model classification "
   ]
  },
  {
   "cell_type": "markdown",
   "metadata": {
    "papermill": {
     "duration": 0.112688,
     "end_time": "2021-04-06T12:43:26.239369",
     "exception": false,
     "start_time": "2021-04-06T12:43:26.126681",
     "status": "completed"
    },
    "tags": []
   },
   "source": [
    "##### We had identified the k=1 is best parameter with GridSearch so using k as 1"
   ]
  },
  {
   "cell_type": "code",
   "execution_count": 52,
   "metadata": {
    "ExecuteTime": {
     "end_time": "2021-04-06T12:33:39.629878Z",
     "start_time": "2021-04-06T12:33:39.600328Z"
    },
    "execution": {
     "iopub.execute_input": "2021-04-06T12:43:26.469202Z",
     "iopub.status.busy": "2021-04-06T12:43:26.468517Z",
     "iopub.status.idle": "2021-04-06T12:43:26.483174Z",
     "shell.execute_reply": "2021-04-06T12:43:26.482577Z"
    },
    "papermill": {
     "duration": 0.131139,
     "end_time": "2021-04-06T12:43:26.483335",
     "exception": false,
     "start_time": "2021-04-06T12:43:26.352196",
     "status": "completed"
    },
    "tags": []
   },
   "outputs": [
    {
     "name": "stdout",
     "output_type": "stream",
     "text": [
      "0.8913043478260869\n"
     ]
    }
   ],
   "source": [
    "model = KNeighborsClassifier(n_neighbors =1).fit(X_train,Y_train)\n",
    "y_pred = model.predict(X_test)\n",
    "accuracy = accuracy_score(Y_test,y_pred)\n",
    "print(accuracy)"
   ]
  },
  {
   "cell_type": "markdown",
   "metadata": {
    "papermill": {
     "duration": 0.11385,
     "end_time": "2021-04-06T12:43:26.713751",
     "exception": false,
     "start_time": "2021-04-06T12:43:26.599901",
     "status": "completed"
    },
    "tags": []
   },
   "source": [
    "##### The accuracy is 0.89 which is 89% after applying sampling. But we will use confusion matrix and classification report to further check our accuracy"
   ]
  },
  {
   "cell_type": "code",
   "execution_count": 53,
   "metadata": {
    "ExecuteTime": {
     "end_time": "2021-04-06T12:33:39.645026Z",
     "start_time": "2021-04-06T12:33:39.633041Z"
    },
    "execution": {
     "iopub.execute_input": "2021-04-06T12:43:26.996151Z",
     "iopub.status.busy": "2021-04-06T12:43:26.995400Z",
     "iopub.status.idle": "2021-04-06T12:43:27.004635Z",
     "shell.execute_reply": "2021-04-06T12:43:27.003937Z"
    },
    "papermill": {
     "duration": 0.159654,
     "end_time": "2021-04-06T12:43:27.004793",
     "exception": false,
     "start_time": "2021-04-06T12:43:26.845139",
     "status": "completed"
    },
    "tags": []
   },
   "outputs": [
    {
     "data": {
      "text/plain": [
       "array([[12,  0,  4,  0,  0,  0],\n",
       "       [ 3, 10,  1,  1,  0,  0],\n",
       "       [ 0,  0, 15,  0,  0,  0],\n",
       "       [ 0,  0,  0, 16,  0,  0],\n",
       "       [ 0,  0,  0,  0, 15,  0],\n",
       "       [ 0,  0,  0,  1,  0, 14]])"
      ]
     },
     "execution_count": 53,
     "metadata": {},
     "output_type": "execute_result"
    }
   ],
   "source": [
    "from sklearn.metrics import confusion_matrix\n",
    "confusion_matrix = confusion_matrix(Y_test,y_pred)\n",
    "confusion_matrix"
   ]
  },
  {
   "cell_type": "code",
   "execution_count": 54,
   "metadata": {
    "ExecuteTime": {
     "end_time": "2021-04-06T12:33:39.670180Z",
     "start_time": "2021-04-06T12:33:39.648022Z"
    },
    "execution": {
     "iopub.execute_input": "2021-04-06T12:43:27.242426Z",
     "iopub.status.busy": "2021-04-06T12:43:27.241658Z",
     "iopub.status.idle": "2021-04-06T12:43:27.251236Z",
     "shell.execute_reply": "2021-04-06T12:43:27.250629Z"
    },
    "papermill": {
     "duration": 0.129911,
     "end_time": "2021-04-06T12:43:27.251384",
     "exception": false,
     "start_time": "2021-04-06T12:43:27.121473",
     "status": "completed"
    },
    "tags": []
   },
   "outputs": [
    {
     "name": "stdout",
     "output_type": "stream",
     "text": [
      "              precision    recall  f1-score   support\n",
      "\n",
      "           1       0.80      0.75      0.77        16\n",
      "           2       1.00      0.67      0.80        15\n",
      "           3       0.75      1.00      0.86        15\n",
      "           5       0.89      1.00      0.94        16\n",
      "           6       1.00      1.00      1.00        15\n",
      "           7       1.00      0.93      0.97        15\n",
      "\n",
      "    accuracy                           0.89        92\n",
      "   macro avg       0.91      0.89      0.89        92\n",
      "weighted avg       0.91      0.89      0.89        92\n",
      "\n"
     ]
    }
   ],
   "source": [
    "print(classification_report(Y_test,y_pred))"
   ]
  },
  {
   "cell_type": "markdown",
   "metadata": {
    "papermill": {
     "duration": 0.11744,
     "end_time": "2021-04-06T12:43:27.485262",
     "exception": false,
     "start_time": "2021-04-06T12:43:27.367822",
     "status": "completed"
    },
    "tags": []
   },
   "source": [
    "##### We could see the precision and recall values are more than 0.75 for all the 7 types which is very decent score. "
   ]
  },
  {
   "cell_type": "code",
   "execution_count": null,
   "metadata": {
    "papermill": {
     "duration": 0.11486,
     "end_time": "2021-04-06T12:43:27.718190",
     "exception": false,
     "start_time": "2021-04-06T12:43:27.603330",
     "status": "completed"
    },
    "tags": []
   },
   "outputs": [],
   "source": []
  }
 ],
 "metadata": {
  "kernelspec": {
   "display_name": "Python 3",
   "language": "python",
   "name": "python3"
  },
  "language_info": {
   "codemirror_mode": {
    "name": "ipython",
    "version": 3
   },
   "file_extension": ".py",
   "mimetype": "text/x-python",
   "name": "python",
   "nbconvert_exporter": "python",
   "pygments_lexer": "ipython3",
   "version": "3.7.1"
  },
  "papermill": {
   "default_parameters": {},
   "duration": 44.166468,
   "end_time": "2021-04-06T12:43:29.562681",
   "environment_variables": {},
   "exception": null,
   "input_path": "__notebook__.ipynb",
   "output_path": "__notebook__.ipynb",
   "parameters": {},
   "start_time": "2021-04-06T12:42:45.396213",
   "version": "2.3.2"
  }
 },
 "nbformat": 4,
 "nbformat_minor": 5
}
